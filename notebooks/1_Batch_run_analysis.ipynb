{
 "cells": [
  {
   "cell_type": "markdown",
   "id": "d7b43d99-d698-40b4-a6cb-1e205a6cc0d7",
   "metadata": {},
   "source": [
    "# Batch run analysis\n",
    "\n",
    "Qsub each tile after breaking input datasets into 8 tiles.  Also, interactive testing below"
   ]
  },
  {
   "cell_type": "code",
   "execution_count": null,
   "id": "d70a23e7-5a01-4839-a9c2-f02880a81e7a",
   "metadata": {
    "tags": []
   },
   "outputs": [],
   "source": [
    "%matplotlib inline\n",
    "\n",
    "import os\n",
    "import sys\n",
    "import warnings\n",
    "import numpy as np\n",
    "import xarray as xr\n",
    "import pandas as pd\n",
    "\n",
    "import matplotlib.pyplot as plt\n",
    "from odc.geo.xr import assign_crs\n"
   ]
  },
  {
   "cell_type": "markdown",
   "id": "aa9b77dc-62cc-445f-b650-72d104c6d175",
   "metadata": {},
   "source": [
    "## Open data"
   ]
  },
  {
   "cell_type": "code",
   "execution_count": null,
   "id": "3e7391fc-5c9d-41fb-ad27-342d2badb8b7",
   "metadata": {},
   "outputs": [],
   "source": [
    "# NDVI data\n",
    "ds_path = f'/g/data/os22/chad_tmp/AusENDVI/results/publication/AusENDVI-clim_MCD43A4_gapfilled_1982_2022_0.2.0.nc'\n",
    "ds = assign_crs(xr.open_dataset(ds_path), crs='EPSG:4326')\n",
    "ds = ds.rename({'AusENDVI_clim_MCD43A4':'NDVI'})\n",
    "ds = ds['NDVI']\n",
    "del ds.attrs['grid_mapping']\n",
    "\n",
    "# GPP datasets: DIFFUSE, MODIS, AusEFlux\n",
    "# ds_path = '/g/data/os22/chad_tmp/Aus_CO2_fertilisation/data/DIFFUSE_GPP_5km_2003_2021.nc'\n",
    "# ds_path = '/g/data/os22/chad_tmp/Aus_CO2_fertilisation/data/MODIS_GPP_5km_2002_2021.nc'\n",
    "# ds_path = '/g/data/os22/chad_tmp/Aus_CO2_fertilisation/data/AusEFlux_GPP_5km_2003_2023.nc'\n",
    "# ds_path = '/g/data/os22/chad_tmp/Aus_CO2_fertilisation/data/PML_GPP_5km_2001_2023.nc'\n",
    "# ds_path = '/g/data/os22/chad_tmp/Aus_CO2_fertilisation/data/AusEFlux_GPP_5km_1982_2022_v0.2.nc'\n",
    "# ds_path = '/g/data/os22/chad_tmp/Aus_CO2_fertilisation/data/AusEFlux_versions/AusEFlux_GPP_5km_1982_2022_v0.4.nc'\n",
    "# ds = assign_crs(xr.open_dataset(ds_path)['GPP'], crs='EPSG:4326')\n",
    "# del ds.attrs['grid_mapping']\n",
    "\n",
    "#covars\n",
    "covariables =  xr.open_dataset('/g/data/os22/chad_tmp/Aus_CO2_fertilisation/data/covars.nc')\n",
    "covariables = covariables.drop_vars(['wcf','smrz'])\n",
    "\n",
    "#soil signal if using NDVI\n",
    "ss_path = f'/g/data/os22/chad_tmp/Aus_CO2_fertilisation/data/ndvi_of_baresoil_5km.nc'\n",
    "ss = assign_crs(xr.open_dataset(ss_path)['NDVI'], crs='epsg:4326')\n",
    "ss.name = 'NDVI'\n",
    "\n",
    "#---------testing slices-----------------------------------------\n",
    "# ds = ds.isel(latitude=slice(200,352), longitude=slice(50,302)) \n",
    "# covariables = covariables.isel(latitude=slice(200,352), longitude=slice(50,302))\n",
    "# ss = ss.isel(latitude=slice(200,352), longitude=slice(50,302))"
   ]
  },
  {
   "cell_type": "markdown",
   "id": "e5431ff9-08fd-4f58-a717-52f15d242139",
   "metadata": {},
   "source": [
    "## Split data into tiles\n",
    "\n",
    "<!-- Running all of Aus just takes too long, >500,000 pixels * > 14,000 time steps - dask graph is huge! -->"
   ]
  },
  {
   "cell_type": "code",
   "execution_count": null,
   "id": "7b7e72dd-43e9-4fdc-9111-434c4a11a624",
   "metadata": {},
   "outputs": [],
   "source": [
    "# Function to split into spatial tiles\n",
    "def split_spatial_tiles(data_array, lat_dim='latitude', lon_dim='longitude', n_lat=2, n_lon=4):\n",
    "    lat_size = data_array.sizes[lat_dim] // n_lat\n",
    "    lon_size = data_array.sizes[lon_dim] // n_lon\n",
    "    \n",
    "    tiles = []\n",
    "    for i in range(n_lat):\n",
    "        for j in range(n_lon):\n",
    "            tile = data_array.isel({\n",
    "                lat_dim: slice(i * lat_size, (i + 1) * lat_size),\n",
    "                lon_dim: slice(j * lon_size, (j + 1) * lon_size)\n",
    "            })\n",
    "            tiles.append(tile)\n",
    "    \n",
    "    return tiles\n",
    "\n",
    "# Split data into spatial tiles (2 latitude x 4 longitude)\n",
    "tiles = split_spatial_tiles(ds, n_lat=2, n_lon=4)\n",
    "covars_tiles = split_spatial_tiles(covariables, n_lat=2, n_lon=4)\n",
    "ss_tiles = split_spatial_tiles(ss, n_lat=2, n_lon=4)\n",
    "\n",
    "#verify no overlaps or missing pixels.\n",
    "assert np.sum(xr.combine_by_coords(tiles).longitude == ds.longitude) == len(ds.longitude)\n",
    "assert np.sum(xr.combine_by_coords(tiles).latitude == ds.latitude) == len(ds.latitude)\n",
    "\n",
    "# create named dictonary\n",
    "tile_names=['NW', 'NNW', 'NNE', 'NE',\n",
    "            'SW', 'SSW', 'SSE', 'SE']\n",
    "tiles_dict = dict(zip(tile_names, tiles))\n",
    "covars_tiles_dict = dict(zip(tile_names, covars_tiles))\n",
    "ss_tiles_dict = dict(zip(tile_names, ss_tiles))\n",
    "\n",
    "#create a plot to visualise tiles\n",
    "fig,axes = plt.subplots(2, 4, figsize=(10,8))\n",
    "for t,ax in zip(tiles, axes.ravel()):\n",
    "    t.isel(time=range(0,20)).mean('time').plot(ax=ax, add_colorbar=False, add_labels=False)\n",
    "    ax.set_title(None);"
   ]
  },
  {
   "cell_type": "markdown",
   "id": "5bf25fb9-8e92-42b2-bee5-501f23b26e7b",
   "metadata": {},
   "source": [
    "## Export"
   ]
  },
  {
   "cell_type": "code",
   "execution_count": null,
   "id": "be3fe74a-f69d-44ba-a160-37535f2fa4c8",
   "metadata": {},
   "outputs": [],
   "source": [
    "for k,v in tiles_dict.items():\n",
    "    v.to_netcdf(f'/g/data/os22/chad_tmp/Aus_CO2_fertilisation/data/tiles/{ds.name}_{k}.nc')"
   ]
  },
  {
   "cell_type": "code",
   "execution_count": null,
   "id": "2b0e0dc3-62d3-4144-b05c-66b0773595c3",
   "metadata": {},
   "outputs": [],
   "source": [
    "for k,v in covars_tiles_dict.items():\n",
    "    v.to_netcdf(f'/g/data/os22/chad_tmp/Aus_CO2_fertilisation/data/tiles/COVARS_{k}.nc')"
   ]
  },
  {
   "cell_type": "code",
   "execution_count": null,
   "id": "d114dbbd-cba9-4648-9986-31165762320e",
   "metadata": {},
   "outputs": [],
   "source": [
    "for k,v in ss_tiles_dict.items():\n",
    "    del v.attrs['grid_mapping']\n",
    "    v.to_netcdf(f'/g/data/os22/chad_tmp/Aus_CO2_fertilisation/data/tiles/SS_{k}.nc')"
   ]
  },
  {
   "cell_type": "markdown",
   "id": "209b6172-4043-4e61-a50f-d5b178b16f4f",
   "metadata": {},
   "source": [
    "## Submit tiles to PBS job queue"
   ]
  },
  {
   "cell_type": "code",
   "execution_count": null,
   "id": "bafabf4b-f576-4127-b134-66d97d71f675",
   "metadata": {},
   "outputs": [],
   "source": [
    "import os"
   ]
  },
  {
   "cell_type": "code",
   "execution_count": null,
   "id": "146045c7-8859-4ff0-87f1-21cd4b593c35",
   "metadata": {},
   "outputs": [],
   "source": [
    "tiles = [\"'NW'\", \"'NNW'\", \"'NNE'\", \"'NE'\", \"'SW'\", \"'SSW'\", \"'SSE'\", \"'SE'\"]  \n",
    "# tiles = [\"'NNW'\", \"'NNE'\", \"'SE'\", \"'SSW'\"] \n",
    "# tiles = [\"'SW'\"] \n",
    "os.chdir('/g/data/os22/chad_tmp/Aus_CO2_fertilisation/')\n",
    "for t in tiles:\n",
    "    os.system(\"qsub -v TILENAME=\"+t+\" src/run_single_tile.sh\")"
   ]
  },
  {
   "cell_type": "code",
   "execution_count": 4,
   "id": "0fff384c-2357-4ac3-b72e-280e5d400562",
   "metadata": {},
   "outputs": [
    {
     "name": "stdout",
     "output_type": "stream",
     "text": [
      "Job id                 Name             User              Time Use S Queue\n",
      "---------------------  ---------------- ----------------  -------- - -----\n",
      "136430877.gadi-pbs     sys-dashboard-s* cb3058            00:22:39 R normalsr-exec   \n",
      "136447363.gadi-pbs     sys-dashboard-s* cb3058            01:45:41 R normalsr-exec   \n",
      "136447454.gadi-pbs     run_single_tile* cb3058            02:02:22 R normalsr-exec   \n",
      "136447455.gadi-pbs     run_single_tile* cb3058            03:09:32 R normalsr-exec   \n",
      "136447456.gadi-pbs     run_single_tile* cb3058            02:05:47 R normalsr-exec   \n",
      "136447457.gadi-pbs     run_single_tile* cb3058            04:21:25 R normalsr-exec   \n",
      "136447458.gadi-pbs     run_single_tile* cb3058            03:27:15 R normalsr-exec   \n",
      "136447459.gadi-pbs     run_single_tile* cb3058            03:31:16 R normalsr-exec   \n",
      "136447460.gadi-pbs     run_single_tile* cb3058            02:47:10 R normalsr-exec   \n",
      "136447461.gadi-pbs     run_single_tile* cb3058            02:11:33 R normalsr-exec   \n"
     ]
    }
   ],
   "source": [
    "!qstat"
   ]
  },
  {
   "cell_type": "markdown",
   "id": "ddb32c14-b662-4475-a20e-e8bc5cfb8fee",
   "metadata": {},
   "source": [
    "## Run interactively instead\n",
    "\n",
    "Good for testing etc."
   ]
  },
  {
   "cell_type": "code",
   "execution_count": null,
   "id": "558dcc31-fad0-46dd-b7a5-4f38fb83b499",
   "metadata": {},
   "outputs": [],
   "source": [
    "%load_ext autoreload\n",
    "%autoreload 2"
   ]
  },
  {
   "cell_type": "code",
   "execution_count": null,
   "id": "12ae0419-241a-41ad-8e00-83c3ae74a1ab",
   "metadata": {},
   "outputs": [],
   "source": [
    "import sys\n",
    "sys.path.append('/g/data/os22/chad_tmp/AusEFlux/src/')\n",
    "from _utils import start_local_dask\n",
    "\n",
    "sys.path.append('/g/data/os22/chad_tmp/Aus_CO2_fertilisation/src/')\n",
    "from batch_run_analysis import attribution_etal"
   ]
  },
  {
   "cell_type": "markdown",
   "id": "9ba7712c-052e-42aa-89fa-6be3e003b2e4",
   "metadata": {},
   "source": [
    "### Variables for script"
   ]
  },
  {
   "cell_type": "code",
   "execution_count": null,
   "id": "c58fb310-d2e0-45db-8890-0a18341cc11d",
   "metadata": {},
   "outputs": [],
   "source": [
    "model_var='GPP'#'NDVI'\n",
    "n_workers=13\n",
    "memory_limit='60GiB'\n",
    "modelling_vars=['co2', 'srad', 'rain', 'tavg', 'vpd', 'cwd']\n",
    "results_path = '/g/data/os22/chad_tmp/Aus_CO2_fertilisation/results/tiles/testing/'\n",
    "template_path='/g/data/os22/chad_tmp/Aus_CO2_fertilisation/data/templates/'\n",
    "model_types = ['delta_slope'] #'PLS', 'delta_slope', 'ML'"
   ]
  },
  {
   "cell_type": "code",
   "execution_count": null,
   "id": "4094a263-b873-4dfa-8384-02ac4d5368d0",
   "metadata": {
    "scrolled": true
   },
   "outputs": [],
   "source": [
    "start_local_dask(\n",
    "        n_workers=n_workers,\n",
    "        threads_per_worker=1,\n",
    "        memory_limit=memory_limit\n",
    "                    )"
   ]
  },
  {
   "cell_type": "code",
   "execution_count": null,
   "id": "a72127b9-ee34-458e-99d2-7dae350596f1",
   "metadata": {
    "scrolled": true
   },
   "outputs": [],
   "source": [
    "tiles = ['NW','NNW', 'NNE', 'NE', 'SW', 'SSW', 'SSE', 'SE'] # \n",
    "\n",
    "for t in tiles:\n",
    "    print(t)\n",
    "    attribution_etal(\n",
    "        n=t,\n",
    "        results_path=results_path,\n",
    "        template_path=template_path,\n",
    "        modelling_vars=modelling_vars,\n",
    "        model_var=model_var,\n",
    "        model_types=model_types\n",
    "    )\n",
    "    break"
   ]
  },
  {
   "cell_type": "code",
   "execution_count": null,
   "id": "0dc0b0fb-be9d-4c95-8a7d-9bea475fce74",
   "metadata": {},
   "outputs": [],
   "source": [
    "import xarray as xr\n",
    "import numpy as np\n",
    "trends = xr.open_dataset(f'{results_path}GPP_trends_perpixel_NW.nc')\n",
    "trends.slope.plot(robust=True, cmap='BrBG');"
   ]
  },
  {
   "cell_type": "code",
   "execution_count": null,
   "id": "8b5339f3-546c-4d5a-89a2-3b90b33f2da6",
   "metadata": {},
   "outputs": [],
   "source": [
    "attr = xr.open_dataset(f'{results_path}attribution_delta_slope_perpixel_NW.nc')\n",
    "attr['delta_slope'].sel(feature='co2').plot(robust=True)"
   ]
  },
  {
   "cell_type": "code",
   "execution_count": null,
   "id": "63de3885-cdea-4252-b82f-80efaa0cd337",
   "metadata": {},
   "outputs": [],
   "source": [
    "beta = xr.open_dataset(f'{results_path}beta_coefficient_perpixel_NW.nc')"
   ]
  },
  {
   "cell_type": "code",
   "execution_count": null,
   "id": "377a5686-7c61-4b79-9dd2-c456eed25f42",
   "metadata": {},
   "outputs": [],
   "source": [
    "beta['beta_relative'].plot(robust=True)"
   ]
  },
  {
   "cell_type": "code",
   "execution_count": null,
   "id": "135b799b-8de2-41be-a991-9eab018903fe",
   "metadata": {},
   "outputs": [],
   "source": []
  }
 ],
 "metadata": {
  "kernelspec": {
   "display_name": "Python 3 (ipykernel)",
   "language": "python",
   "name": "python3"
  },
  "language_info": {
   "codemirror_mode": {
    "name": "ipython",
    "version": 3
   },
   "file_extension": ".py",
   "mimetype": "text/x-python",
   "name": "python",
   "nbconvert_exporter": "python",
   "pygments_lexer": "ipython3",
   "version": "3.10.0"
  }
 },
 "nbformat": 4,
 "nbformat_minor": 5
}
