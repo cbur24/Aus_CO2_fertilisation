{
 "cells": [
  {
   "cell_type": "markdown",
   "id": "efe8b79f-4c9d-4866-bc8c-a99af9f9e30b",
   "metadata": {},
   "source": [
    "# Combine the analysis tiles\n",
    "\n",
    "And mask regions such as urban, agriculture, and water bodies."
   ]
  },
  {
   "cell_type": "code",
   "execution_count": null,
   "id": "d70a23e7-5a01-4839-a9c2-f02880a81e7a",
   "metadata": {
    "tags": []
   },
   "outputs": [],
   "source": [
    "%matplotlib inline\n",
    "\n",
    "import os\n",
    "import sys\n",
    "import warnings\n",
    "import numpy as np\n",
    "import xarray as xr\n",
    "import pandas as pd\n",
    "from odc.geo.xr import assign_crs\n",
    "import matplotlib.pyplot as plt\n",
    "\n",
    "sys.path.append('/g/data/os22/chad_tmp/AusEFlux/src/')\n",
    "from _utils import round_coords\n"
   ]
  },
  {
   "cell_type": "code",
   "execution_count": null,
   "id": "7a5ff986-301b-44cb-8195-1b5ccfbe1073",
   "metadata": {},
   "outputs": [],
   "source": [
    "data_type = 'MODIS_GPP'  #'AusEFlux_GPP' 'DIFFUSE_GPP' 'NDVI_1982_2022' 'MODIS_GPP'\n",
    "tiles_path = f'/g/data/os22/chad_tmp/Aus_CO2_fertilisation/results/tiles/{data_type}/'\n",
    "export=f'/g/data/os22/chad_tmp/Aus_CO2_fertilisation/results/combined_tiles/{data_type}/'"
   ]
  },
  {
   "cell_type": "markdown",
   "id": "b198fe4d-089b-4861-85c9-85072d9b3bb8",
   "metadata": {},
   "source": [
    "## Open masking datasets"
   ]
  },
  {
   "cell_type": "code",
   "execution_count": null,
   "id": "29a35334-fbed-4f72-9317-d145cc5f7712",
   "metadata": {},
   "outputs": [],
   "source": [
    "crops = xr.open_dataset('/g/data/os22/chad_tmp/Aus_phenology/data/croplands_5km.nc')['croplands']\n",
    "crops = xr.where(crops==1, 0, 1) #irrigated crops\n",
    "crops = round_coords(crops)\n",
    "\n",
    "urban = xr.open_dataarray('/g/data/xc0/project/AusEFlux/data/urban_water_mask_5km.nc')\n",
    "mask = (urban | crops)\n",
    "\n",
    "mask = ~mask.astype('bool')"
   ]
  },
  {
   "cell_type": "markdown",
   "id": "2c57f0af-0b7e-40b7-9713-a3d5a79447a3",
   "metadata": {},
   "source": [
    "## Join tiles together\n",
    "\n",
    "and mask with urban etc."
   ]
  },
  {
   "cell_type": "code",
   "execution_count": null,
   "id": "e560dd06-ffff-48c5-8c47-c906a8ba9a5e",
   "metadata": {},
   "outputs": [],
   "source": [
    "def combine_tiles(path, v, mask):\n",
    "    tiles = [path+i for i in os.listdir(path) if v in i]\n",
    "    tiles = [xr.open_dataset(t) for t in tiles]\n",
    "    p = xr.combine_by_coords(tiles)\n",
    "    p = assign_crs(p,crs='EPSG:4326')\n",
    "    \n",
    "    for var in p.data_vars:\n",
    "        try:\n",
    "            del p[var].attrs['grid_mapping']\n",
    "        except:\n",
    "            continue\n",
    "\n",
    "    # mask = (urban & crops)\n",
    "    p = p.where(mask)\n",
    "    return p\n",
    "\n",
    "p_trends = combine_tiles(tiles_path, 'trends', mask)\n",
    "# p_beta = combine_tiles(tiles_path, 'beta', mask)\n",
    "# p_attribute_pls = combine_tiles(tiles_path, 'PLS', mask)\n",
    "# p_attribute_ml = combine_tiles(tiles_path, 'ML', mask)\n",
    "# p_attribute_delta_slope = combine_tiles(tiles_path, 'delta_slope', mask)\n"
   ]
  },
  {
   "cell_type": "markdown",
   "id": "699bb578-cfbe-4b55-8270-0a0b2606b95f",
   "metadata": {},
   "source": [
    "## Interactive maps"
   ]
  },
  {
   "cell_type": "code",
   "execution_count": null,
   "id": "d2068041-950d-4057-aefb-516a3a4f78ab",
   "metadata": {},
   "outputs": [],
   "source": [
    "p_trends['slope'].odc.explore( #.where(p_trends['p_value']<=0.1)\n",
    "    tiles = 'https://server.arcgisonline.com/ArcGIS/rest/services/World_Imagery/MapServer/tile/{z}/{y}/{x}',\n",
    "    attr = 'Esri',\n",
    "    name = 'Esri Satellite',\n",
    "    cmap='BrBG',\n",
    "    robust=True\n",
    ")"
   ]
  },
  {
   "cell_type": "code",
   "execution_count": null,
   "id": "1eb2c1bf-9e25-45e2-8874-8fc9c58ea1d3",
   "metadata": {},
   "outputs": [],
   "source": [
    "# fig,ax=plt.subplots(1,2, figsize=(10,4), sharey=True)\n",
    "# p_beta['beta'].where(p_beta['pvalue']<=0.1).plot(ax=ax[0], vmin=0, vmax=0.025, add_labels=False, cmap='magma')\n",
    "# (p_beta['beta_relative']).where(p_beta['pvalue']<=0.1).plot(ax=ax[1], vmin=0, vmax=150, add_labels=False, cmap='magma')\n",
    "# ax[0].set_title('Beta NDVI / yr / ppm')\n",
    "# ax[1].set_title('Beta relative NDVI / 100ppm');"
   ]
  },
  {
   "cell_type": "code",
   "execution_count": null,
   "id": "34cbf2c9-9694-45d8-b480-19407fe5fb2e",
   "metadata": {},
   "outputs": [],
   "source": [
    "# p_beta['beta_relative'].where(p_beta['pvalue']<=0.05).odc.explore( #.where(p_trends['p_value']<=0.1)\n",
    "#     tiles = 'https://server.arcgisonline.com/ArcGIS/rest/services/World_Imagery/MapServer/tile/{z}/{y}/{x}',\n",
    "#     attr = 'Esri',\n",
    "#     name = 'Esri Satellite',\n",
    "#     cmap='magma',\n",
    "#     robust=True\n",
    "# )"
   ]
  },
  {
   "cell_type": "markdown",
   "id": "928bd19c-49f3-447c-9e99-aae65b4bb959",
   "metadata": {},
   "source": [
    "## Export"
   ]
  },
  {
   "cell_type": "code",
   "execution_count": null,
   "id": "be11967d-6491-4109-b074-5d844c4c7d66",
   "metadata": {},
   "outputs": [],
   "source": [
    "p_trends.to_netcdf(f'{export}/trends_{data_type}.nc')\n",
    "# p_beta.to_netcdf(f'{export}beta_{data_type}.nc')\n",
    "# p_attribute_pls.to_netcdf(f'{export}attribution_PLS_{data_type}.nc')\n",
    "# p_attribute_ml.to_netcdf(f'{export}attribution_ML_{data_type}.nc')\n",
    "# p_attribute_delta_slope.to_netcdf(f'{export}/attribution_delta_slope_{data_type}.nc')"
   ]
  },
  {
   "cell_type": "code",
   "execution_count": null,
   "id": "77142928-2c68-458c-a534-c4c412fd1821",
   "metadata": {},
   "outputs": [],
   "source": []
  }
 ],
 "metadata": {
  "kernelspec": {
   "display_name": "Python 3 (ipykernel)",
   "language": "python",
   "name": "python3"
  },
  "language_info": {
   "codemirror_mode": {
    "name": "ipython",
    "version": 3
   },
   "file_extension": ".py",
   "mimetype": "text/x-python",
   "name": "python",
   "nbconvert_exporter": "python",
   "pygments_lexer": "ipython3",
   "version": "3.10.0"
  }
 },
 "nbformat": 4,
 "nbformat_minor": 5
}
