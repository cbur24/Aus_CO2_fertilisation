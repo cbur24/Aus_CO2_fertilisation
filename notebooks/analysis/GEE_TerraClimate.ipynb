{
 "cells": [
  {
   "cell_type": "markdown",
   "id": "738dbfc3-dc7e-49c1-93c4-5affb2881f24",
   "metadata": {},
   "source": [
    "## Download and process TerraClimate's Climatic Water Deficit\n",
    "\n",
    "Also pre-process GLEAM's root-zone soil moisture"
   ]
  },
  {
   "cell_type": "code",
   "execution_count": null,
   "id": "45d1b66a-005b-4fe6-bb78-c5a5ef32acf8",
   "metadata": {},
   "outputs": [],
   "source": [
    "import os\n",
    "import ee\n",
    "import geemap\n",
    "import warnings\n",
    "import xarray as xr\n",
    "import pandas as pd\n",
    "import numpy as np\n",
    "\n",
    "from odc.geo.xr import assign_crs"
   ]
  },
  {
   "cell_type": "code",
   "execution_count": null,
   "id": "ab6f65da-e0e0-4894-a0a3-a87756a2924e",
   "metadata": {},
   "outputs": [],
   "source": [
    "# Trigger the authentication flow.\n",
    "ee.Authenticate()\n",
    "\n",
    "# Initialize the library.\n",
    "ee.Initialize()"
   ]
  },
  {
   "cell_type": "code",
   "execution_count": null,
   "id": "1af1b3b8-f0f0-4d01-b473-a50881644616",
   "metadata": {},
   "outputs": [],
   "source": [
    "product = 'IDAHO_EPSCOR/TERRACLIMATE'\n",
    "bands = ['def']\n",
    "start_date = '1/1/1982'\n",
    "end_date = '12/31/2023'\n",
    "output_crs = \"EPSG:3577\"\n",
    "resolution = 5000\n",
    "\n",
    "# ~Aus region\n",
    "region = ee.Geometry.Polygon([[\n",
    "            [110,-43.0],\n",
    "            [155,-43.0],\n",
    "            [155,-9.0],\n",
    "            [110,-9.0],\n",
    "            [110,-43.0]]])\n"
   ]
  },
  {
   "cell_type": "code",
   "execution_count": null,
   "id": "54d76182-5adf-4bf5-9333-eb0aa0d5c948",
   "metadata": {},
   "outputs": [],
   "source": [
    "#use start and end dates to loop through months and load GEE data\n",
    "start = pd.date_range(start=start_date, end=end_date, freq='MS') \n",
    "end = pd.date_range(start=start_date, end=end_date, freq='ME')\n",
    "\n",
    "i = 0\n",
    "for s, e in zip(start,end):\n",
    "    print(\" {:03}/{:03}\\r\".format(i+1, len(start)), end=\"\")\n",
    "    ss = s+pd.Timedelta(14, 'd')\n",
    "    s = s.strftime('%Y-%m-%d')\n",
    "    e = e.strftime('%Y-%m-%d')\n",
    "\n",
    "    ds = (ee.ImageCollection(product) \n",
    "      .filterDate(s,e) \n",
    "      .map(lambda image: image.clip(region))\n",
    "      .select(bands)\n",
    "      .map(lambda image: image.multiply(0.1))\n",
    "      .reduce(ee.Reducer.median())\n",
    "         )\n",
    "    \n",
    "    export = ee.batch.Export.image.toDrive(ds,\n",
    "        description='TerraClimate_CWD'+'_'+ss.strftime('%Y-%m-%d'),\n",
    "        folder='TerraClimate_CWD',\n",
    "        region=region,\n",
    "        scale=resolution,\n",
    "        crs=output_crs,\n",
    "        maxPixels=1e13,\n",
    "        fileFormat='GeoTIFF',\n",
    "        formatOptions={\n",
    "            'cloudOptimized':True\n",
    "              }\n",
    "        )\n",
    "    export.start()\n",
    "    i+=1\n"
   ]
  },
  {
   "cell_type": "markdown",
   "id": "5ea346b9-dee3-4187-a1ef-bf1ba2760fac",
   "metadata": {},
   "source": [
    "## Plot a map"
   ]
  },
  {
   "cell_type": "code",
   "execution_count": null,
   "id": "ffb5bb51-5f1b-4c17-b8b1-25124b5029e2",
   "metadata": {},
   "outputs": [],
   "source": [
    "# Using basemap in geemap\n",
    "Map = geemap.Map(center=[-35.2041, 149.2721], zoom=4)\n",
    "\n",
    "ndvi_palette=['FFFFFF', 'CE7E45', 'DF923D', 'F1B555', 'FCD163', '99B718',\n",
    "               '74A901', '66A000', '529400', '3E8601', '207401', '056201',\n",
    "               '004C00', '023B01', '012E01', '011D01', '011301']\n",
    "\n",
    "# ndvi_palette = [\n",
    "#     'a50026', 'd73027', 'f46d43', 'fdae61', 'fee08b', 'ffffbf',\n",
    "#     'd9ef8b', 'a6d96a', '66bd63', '1a9850', '006837',\n",
    "#   ]\n",
    "\n",
    "ndviVis = {'min': 10, 'max': 500, 'palette': ndvi_palette}\n",
    "\n",
    "Map.addLayer(ds, ndviVis)\n",
    "Map"
   ]
  },
  {
   "cell_type": "markdown",
   "id": "b74abcd8-8984-410e-a7df-9327d277952c",
   "metadata": {},
   "source": [
    "## Stitch together geotiffs"
   ]
  },
  {
   "cell_type": "code",
   "execution_count": null,
   "id": "0a633ff4-a30c-4321-8542-d9e81f74d5a5",
   "metadata": {},
   "outputs": [],
   "source": [
    "import os\n",
    "import pickle\n",
    "import xarray as xr\n",
    "import numpy as np\n",
    "import pandas as pd\n",
    "from odc.geo.xr import assign_crs\n",
    "import sys\n",
    "sys.path.append('/g/data/os22/chad_tmp/AusEFlux/src/')\n",
    "from _utils import round_coords"
   ]
  },
  {
   "cell_type": "code",
   "execution_count": null,
   "id": "139bce6b-5061-4c4c-8493-4d5af09e8bba",
   "metadata": {},
   "outputs": [],
   "source": [
    "base='/g/data/os22/chad_tmp/Aus_CO2_fertilisation/data/TerraClimate_CWD/'\n",
    "name= 'def'\n",
    "dates_start = '1982-01-01'\n",
    "dates_end = '2023-12-31'"
   ]
  },
  {
   "cell_type": "code",
   "execution_count": null,
   "id": "2230b1e5-340d-4191-828b-18658931d2d8",
   "metadata": {},
   "outputs": [],
   "source": [
    "files = [base+i for i in os.listdir(base) if i.endswith('.tif')]\n",
    "files.sort()\n",
    "\n",
    "time = (pd.date_range(dates_start, dates_end, freq='MS') + pd.DateOffset(days=14)).to_numpy()\n",
    "time = list(time)\n",
    "\n",
    "print(len(files), print(len(time)))"
   ]
  },
  {
   "cell_type": "code",
   "execution_count": null,
   "id": "dd864857-990d-4c71-8126-578d5e90f2b7",
   "metadata": {},
   "outputs": [],
   "source": [
    "i=0\n",
    "arrs=[]\n",
    "for f, t in zip(files, time):\n",
    "    print(\" {:02}/{:02}\\r\".format(i + 1, len(files)), end=\"\")\n",
    "    \n",
    "    ds = xr.open_dataarray(f).squeeze().drop_vars('band').astype('float32')\n",
    "    ds = ds.expand_dims(time=[t])\n",
    "    ds = ds.rename(name)\n",
    "    \n",
    "    del ds.attrs['long_name']\n",
    "    del ds.attrs['AREA_OR_POINT']\n",
    "\n",
    "    ds.attrs['nodata']=np.nan\n",
    "    ds = ds.drop_vars('spatial_ref')\n",
    "    ds = assign_crs(ds, crs='epsg:3577')\n",
    "    arrs.append(ds)\n",
    "\n",
    "    i+=1\n",
    "    "
   ]
  },
  {
   "cell_type": "code",
   "execution_count": null,
   "id": "95d75c2a-0382-43c6-b7fa-05661e164bae",
   "metadata": {},
   "outputs": [],
   "source": [
    "ds = xr.concat(arrs, dim='time').sortby('time')"
   ]
  },
  {
   "cell_type": "code",
   "execution_count": null,
   "id": "eb1b937c-c725-4950-aea6-143640ff0bf4",
   "metadata": {},
   "outputs": [],
   "source": [
    "with open(f'/g/data/xc0/project/AusEFlux/data/grid_5km', 'rb') as f:\n",
    "    gbox_5km = pickle.load(f)\n",
    "\n",
    "mask = xr.open_dataset(f'/g/data/xc0/project/AusEFlux/data/land_sea_mask_5km.nc')['landsea_mask_5km']"
   ]
  },
  {
   "cell_type": "code",
   "execution_count": null,
   "id": "98531cc3-1f72-408a-a092-4a9d13d2e013",
   "metadata": {},
   "outputs": [],
   "source": [
    "ds = ds.odc.reproject(how=gbox_5km, resampling='bilinear')"
   ]
  },
  {
   "cell_type": "code",
   "execution_count": null,
   "id": "1649c005-2342-4a9b-8221-3306d9350b75",
   "metadata": {},
   "outputs": [],
   "source": [
    "ds = round_coords(ds)\n",
    "ds = ds.where(mask)\n",
    "ds.name='CWD'"
   ]
  },
  {
   "cell_type": "code",
   "execution_count": null,
   "id": "5fec1e4b-6fed-40bb-924f-a100a39defca",
   "metadata": {},
   "outputs": [],
   "source": [
    "ds.astype('float32').to_netcdf('/g/data/os22/chad_tmp/Aus_CO2_fertilisation/data/CWD_TerraClimate_5km_1982_2023.nc')"
   ]
  },
  {
   "cell_type": "markdown",
   "id": "2ea30708-17e4-4d7a-93dd-cfcbc8e01615",
   "metadata": {},
   "source": [
    "## Add CWD to covars file"
   ]
  },
  {
   "cell_type": "code",
   "execution_count": null,
   "id": "630cefb9-ab53-46ac-a4eb-a43f709b45b4",
   "metadata": {},
   "outputs": [],
   "source": [
    "import xarray as xr"
   ]
  },
  {
   "cell_type": "code",
   "execution_count": null,
   "id": "51cf193b-df2e-452c-9113-47960d528450",
   "metadata": {},
   "outputs": [],
   "source": [
    "covar_file = f'/g/data/os22/chad_tmp/Aus_phenology/data/covars.nc'"
   ]
  },
  {
   "cell_type": "code",
   "execution_count": null,
   "id": "d4e46018-876f-41ce-b5b5-91c471f91d06",
   "metadata": {},
   "outputs": [],
   "source": [
    "covariables =  xr.open_dataset(covar_file)\n",
    "cwd = xr.open_dataset('/g/data/os22/chad_tmp/Aus_CO2_fertilisation/data/CWD_TerraClimate_5km_1982_2023.nc')\n",
    "cwd = cwd.sel(time=slice('1982','2022'))\n",
    "covariables['cwd'] = cwd['CWD']"
   ]
  },
  {
   "cell_type": "code",
   "execution_count": null,
   "id": "1480fc89-ce09-4c0b-a245-ee25db3465c6",
   "metadata": {},
   "outputs": [],
   "source": [
    "covariables.to_netcdf('/g/data/os22/chad_tmp/Aus_CO2_fertilisation/data/covars.nc')"
   ]
  },
  {
   "cell_type": "markdown",
   "id": "eb6e8a14-2108-4cf9-af98-d51777766510",
   "metadata": {},
   "source": [
    "## GLEAM root-zone SM"
   ]
  },
  {
   "cell_type": "code",
   "execution_count": null,
   "id": "e3f25d13-cec6-4679-ab75-6342aaab36d4",
   "metadata": {},
   "outputs": [],
   "source": [
    "import os\n",
    "import pickle\n",
    "import xarray as xr\n",
    "import numpy as np\n",
    "import pandas as pd\n",
    "from odc.geo.xr import assign_crs\n",
    "import sys\n",
    "sys.path.append('/g/data/os22/chad_tmp/AusEFlux/src/')\n",
    "from _utils import round_coords"
   ]
  },
  {
   "cell_type": "code",
   "execution_count": null,
   "id": "709a8f84-9d2f-4a67-b2b8-9f33db18b5cc",
   "metadata": {},
   "outputs": [],
   "source": [
    "base='/g/data/os22/chad_tmp/Aus_CO2_fertilisation/data/SMrz/'\n",
    "name= 'SMrz'\n",
    "dates_start = '1980-01-01'\n",
    "dates_end = '2023-12-31'"
   ]
  },
  {
   "cell_type": "code",
   "execution_count": null,
   "id": "8cd24eff-bf26-4106-857e-b1f908274c9e",
   "metadata": {},
   "outputs": [],
   "source": [
    "with open(f'/g/data/xc0/project/AusEFlux/data/grid_5km', 'rb') as f:\n",
    "    gbox = pickle.load(f)\n",
    "\n",
    "mask = xr.open_dataset(f'/g/data/xc0/project/AusEFlux/data/land_sea_mask_5km.nc')['landsea_mask_5km']\n",
    "\n",
    "files = [f'{base}{i}' for i in os.listdir(base) if i.endswith(\".nc\")]\n",
    "files.sort()"
   ]
  },
  {
   "cell_type": "code",
   "execution_count": null,
   "id": "158dab08-8ab6-49e1-942d-43c911a1f220",
   "metadata": {},
   "outputs": [],
   "source": [
    "# #combine annual files into one file\n",
    "ds = xr.open_mfdataset(files)\n",
    "ds = ds.sel(lat=slice(-10,-45), lon=slice(111,155))\n",
    "ds = ds.rename({'lat':'latitude', 'lon':'longitude'})\n",
    "ds = assign_crs(ds[name], crs='EPSG:4236')\n",
    "ds = ds.rename(name)\n",
    "ds.attrs['nodata'] = np.nan\n",
    "\n",
    "ds = ds.odc.reproject(gbox, resampling='bilinear').compute()\n",
    "ds = round_coords(ds)\n",
    "ds = ds.rename(name)\n",
    "ds = ds.where(mask)\n",
    "ds['time'] = [pd.offsets.MonthBegin().rollback(t)+pd.Timedelta(14, 'd') for t in ds['time'].values]"
   ]
  },
  {
   "cell_type": "code",
   "execution_count": null,
   "id": "d0177b53-fc8b-42b1-8e05-7e345713f3f0",
   "metadata": {},
   "outputs": [],
   "source": [
    "ds.astype('float32').to_netcdf('/g/data/os22/chad_tmp/Aus_CO2_fertilisation/data/SMrz_GLEAM_5km_1980_2023.nc')"
   ]
  },
  {
   "cell_type": "code",
   "execution_count": null,
   "id": "88a92924-f3b9-44a3-9699-137af3ec3aa4",
   "metadata": {},
   "outputs": [],
   "source": [
    "# import matplotlib.pyplot as plt\n",
    "# ds.mean('time').plot(vmin=0.075, vmax=0.3)\n",
    "# plt.title('GLEAM SMrz');"
   ]
  },
  {
   "cell_type": "markdown",
   "id": "c8ad983d-ce19-4cc9-a164-bc68400079a7",
   "metadata": {},
   "source": [
    "### Add SMrz to covars file"
   ]
  },
  {
   "cell_type": "code",
   "execution_count": null,
   "id": "34aa4e42-6436-4d26-8ead-a16cc477d008",
   "metadata": {},
   "outputs": [],
   "source": [
    "import xarray as xr"
   ]
  },
  {
   "cell_type": "code",
   "execution_count": null,
   "id": "56a20d7f-7558-4caf-bb06-c57f8c16f84b",
   "metadata": {},
   "outputs": [],
   "source": [
    "covar_file = f'/g/data/os22/chad_tmp/Aus_CO2_fertilisation/data/covars.nc'"
   ]
  },
  {
   "cell_type": "code",
   "execution_count": null,
   "id": "10a5b57c-c440-41c7-9534-d61fc3c363b9",
   "metadata": {},
   "outputs": [],
   "source": [
    "covariables =  xr.open_dataset(covar_file)\n",
    "sm = xr.open_dataset('/g/data/os22/chad_tmp/Aus_CO2_fertilisation/data/SMrz_GLEAM_5km_1980_2023.nc')\n",
    "sm = sm.sel(time=slice('1982','2022'))\n",
    "covariables['smrz'] = sm['SMrz']"
   ]
  },
  {
   "cell_type": "code",
   "execution_count": null,
   "id": "746da49a-bf8c-4b37-9f8b-f3a8043bc07f",
   "metadata": {},
   "outputs": [],
   "source": [
    "covariables.to_netcdf('/g/data/os22/chad_tmp/Aus_CO2_fertilisation/data/covars__.nc')"
   ]
  },
  {
   "cell_type": "code",
   "execution_count": null,
   "id": "b35b06ea-7b42-43f8-995b-85178df7d2c1",
   "metadata": {},
   "outputs": [],
   "source": []
  }
 ],
 "metadata": {
  "kernelspec": {
   "display_name": "Python 3 (ipykernel)",
   "language": "python",
   "name": "python3"
  },
  "language_info": {
   "codemirror_mode": {
    "name": "ipython",
    "version": 3
   },
   "file_extension": ".py",
   "mimetype": "text/x-python",
   "name": "python",
   "nbconvert_exporter": "python",
   "pygments_lexer": "ipython3",
   "version": "3.10.0"
  }
 },
 "nbformat": 4,
 "nbformat_minor": 5
}
