{
 "cells": [
  {
   "cell_type": "markdown",
   "id": "6763e280-5e78-4cf1-abe2-89e80cc1a0b3",
   "metadata": {},
   "source": [
    "## Process CLUM dataset\n",
    "\n",
    "Extracting plantation forests for masking\n",
    "\n",
    "Attribute table: https://di-daa.img.arcgis.com/arcgis/rest/services/Land_and_vegetation/Catchment_Scale_Land_Use_Secondary/ImageServer/rasterAttributeTable\n"
   ]
  },
  {
   "cell_type": "code",
   "execution_count": null,
   "id": "a176616b-95db-4f88-aa1e-8fb42d7933fc",
   "metadata": {},
   "outputs": [],
   "source": [
    "import numpy as np\n",
    "import xarray as xr\n",
    "import rioxarray as rxr\n",
    "from odc.geo.xr import assign_crs\n",
    "import matplotlib.pyplot as plt\n",
    "\n",
    "import sys\n",
    "sys.path.append('/g/data/os22/chad_tmp/AusEFlux/src/')\n",
    "from _utils import start_local_dask, round_coords"
   ]
  },
  {
   "cell_type": "code",
   "execution_count": null,
   "id": "a300631e-edfc-4a87-ade2-f9de80d9fdbe",
   "metadata": {},
   "outputs": [],
   "source": [
    "client = start_local_dask()\n",
    "client"
   ]
  },
  {
   "cell_type": "code",
   "execution_count": null,
   "id": "bf3eb336-3a3d-4a12-80b2-e16d6d1c7554",
   "metadata": {},
   "outputs": [],
   "source": [
    "# Path to raster\n",
    "path = \"/g/data/os22/chad_tmp/Aus_CO2_fertilisation/data/clum_50m_2023.tiff\"\n",
    "\n",
    "# Load from file\n",
    "ds = rxr.open_rasterio(\n",
    "    path,\n",
    "    masked=True,\n",
    "    chunks={\"x\": 200, \"y\": 200},\n",
    ")\n",
    "\n",
    "#reproject\n",
    "ds_path = '/g/data/os22/chad_tmp/Aus_CO2_fertilisation/data/AusEFlux_versions/AusEFlux_GPP_5km_1982_2022_v0.5.nc'\n",
    "gbox = assign_crs(xr.open_dataset(ds_path), crs='EPSG:4326').odc.geobox\n",
    "\n",
    "ds = ds.odc.reproject(how=gbox, resampling='mode')\n",
    "ds = ds.rename('CLUM_5km')\n",
    "ds = round_coords(ds)\n",
    "ds = ds.squeeze().drop_vars('band')\n",
    "ds = ds.where(ds>0)\n",
    "ds.to_netcdf('/g/data/os22/chad_tmp/Aus_CO2_fertilisation/data/clum_50m_2023_5km.nc')\n",
    "\n",
    "plantation_forests = xr.where(ds.isin([310,311,312,313,314]), 1, 0)\n",
    "plantation_forests.to_netcdf('/g/data/os22/chad_tmp/Aus_CO2_fertilisation/data/plantation_forests_5km.nc')"
   ]
  },
  {
   "cell_type": "code",
   "execution_count": null,
   "id": "58f79925-e9f8-4a6a-8565-e1201ce43c70",
   "metadata": {},
   "outputs": [],
   "source": [
    "# ds.where(ds.isin([310,311,312,313, 314])).odc.explore(\n",
    "#         tiles = 'https://server.arcgisonline.com/ArcGIS/rest/services/World_Imagery/MapServer/tile/{z}/{y}/{x}',\n",
    "#     attr = 'Esri',\n",
    "#     name = 'Esri Satellite',\n",
    "#     cmap='tab20',\n",
    "#     robust=False\n",
    "# )"
   ]
  }
 ],
 "metadata": {
  "kernelspec": {
   "display_name": "Python 3 (ipykernel)",
   "language": "python",
   "name": "python3"
  },
  "language_info": {
   "codemirror_mode": {
    "name": "ipython",
    "version": 3
   },
   "file_extension": ".py",
   "mimetype": "text/x-python",
   "name": "python",
   "nbconvert_exporter": "python",
   "pygments_lexer": "ipython3",
   "version": "3.10.0"
  }
 },
 "nbformat": 4,
 "nbformat_minor": 5
}
