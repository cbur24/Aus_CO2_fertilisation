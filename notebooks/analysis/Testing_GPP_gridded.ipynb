{
 "cells": [
  {
   "cell_type": "markdown",
   "id": "8d6185d6-5015-4c74-a294-e3c3cea28081",
   "metadata": {},
   "source": [
    "# Testing methods for extracting CO2 fertilisation effect from GPP datasets\n"
   ]
  },
  {
   "cell_type": "code",
   "execution_count": 16,
   "id": "be0c7445-4b35-4c1a-b586-353f4a293c32",
   "metadata": {
    "tags": []
   },
   "outputs": [],
   "source": [
    "%matplotlib inline\n",
    "\n",
    "import os\n",
    "import sys\n",
    "import pickle\n",
    "import warnings\n",
    "import numpy as np\n",
    "import xarray as xr\n",
    "import pandas as pd\n",
    "import seaborn as sb\n",
    "import scipy.stats\n",
    "import geopandas as gpd\n",
    "import matplotlib.pyplot as plt\n",
    "from odc.geo.xr import assign_crs\n",
    "from odc.geo.geom import Geometry\n",
    "from scipy.signal import detrend\n",
    "from scipy.stats import theilslopes, kendalltau\n",
    "\n",
    "from sklearn.ensemble import RandomForestRegressor\n",
    "from sklearn.cross_decomposition import PLSRegression\n",
    "\n",
    "# sys.path.append('/g/data/os22/chad_tmp/Aus_CO2_fertilisation/src')"
   ]
  },
  {
   "cell_type": "markdown",
   "id": "a36d45f1-6dd9-44b4-bb31-825db4303234",
   "metadata": {},
   "source": [
    "## Analysis Parameters"
   ]
  },
  {
   "cell_type": "code",
   "execution_count": 30,
   "id": "3ea1bf71-29b3-4ea7-a9b9-0989f9bfb1f1",
   "metadata": {
    "tags": []
   },
   "outputs": [],
   "source": [
    "# k = 'Alice Tableland'\n",
    "# k = 'Western Mallee'\n",
    "# k='Daintree-Bloomfield'\n",
    "k='Warre'\n",
    "# k='Western Mallee'\n",
    "# k = 'Victorian Alps'\n",
    "\n",
    "# NDVI data\n",
    "# ds_path = '/g/data/ub8/au/AusEFlux/v2/annual/AnnualSum/GPP/'\n",
    "# ds_path = f'/g/data/os22/chad_tmp/Aus_CO2_fertilisation/data/DIFFUSE_GPP_1km_2003_2021.nc'\n",
    "# ds_path = f'/g/data/os22/chad_tmp/Aus_CO2_fertilisation/data/AusEFlux_GPP_5km_1982_2022_v0.2.nc'\n",
    "ds_path = f'/g/data/os22/chad_tmp/Aus_CO2_fertilisation/data/CEDAR_GPP_CFE_5km_1982_2020.nc'\n",
    "\n",
    "#ibra subregions\n",
    "ecoregions_file = f'/g/data/os22/chad_tmp/Aus_phenology/data/vectors/IBRAv7_subregions_modified.geojson'\n",
    "\n",
    "#climate data\n",
    "covar_file = f'/g/data/os22/chad_tmp/Aus_CO2_fertilisation/data/covars.nc'\n"
   ]
  },
  {
   "cell_type": "markdown",
   "id": "f70ab9b0-eab2-4666-b29e-c8a36660a864",
   "metadata": {},
   "source": [
    "## Interactively plot IBRA regions\n",
    "\n",
    "Hover over the regions to see its name"
   ]
  },
  {
   "cell_type": "code",
   "execution_count": 31,
   "id": "0ed2819e-e7c4-45a3-82f7-da3273d4313c",
   "metadata": {},
   "outputs": [],
   "source": [
    "# gdf = gpd.read_file(ecoregions_file)\n",
    "# gdf.explore(column='SUB_NAME_7',\n",
    "#             tiles = 'https://server.arcgisonline.com/ArcGIS/rest/services/World_Imagery/MapServer/tile/{z}/{y}/{x}',\n",
    "#             attr = 'Esri',\n",
    "#             name = 'Esri Satellite',\n",
    "#             control = True,\n",
    "#             legend=False\n",
    "#            )"
   ]
  },
  {
   "cell_type": "markdown",
   "id": "86e485e8-b3f4-4712-b238-a41d0fa2e35c",
   "metadata": {},
   "source": [
    "## Open data"
   ]
  },
  {
   "cell_type": "code",
   "execution_count": 32,
   "id": "70ea51ff-c2d6-47f4-851a-1b36f9b6b282",
   "metadata": {
    "tags": []
   },
   "outputs": [],
   "source": [
    "gdf = gpd.read_file(ecoregions_file)\n",
    "\n",
    "ds = assign_crs(xr.open_dataset(ds_path), crs='EPSG:4326')['GPP']\n",
    "# ds = ds.rename('GPP')\n",
    "\n",
    "# files = [f'{ds_path}/{i}' for i in os.listdir(ds_path) if i.endswith(\".nc\")]\n",
    "# files.sort()\n",
    "# ds = xr.open_mfdataset(files).sel(time=slice('2003','2022'))['GPP_median']\n",
    "# ds = assign_crs(ds, crs='EPSG:4326')\n",
    "# ds.attrs['nodata'] = np.nan\n",
    "# ds = ds.rename('GPP').compute()\n",
    "\n",
    "covariables =  xr.open_dataset(covar_file)\n",
    "covariables = covariables.drop_vars(['wcf', 'smrz'])"
   ]
  },
  {
   "cell_type": "markdown",
   "id": "96e2ce51-d9e7-4933-b55b-eff7aa7bfa0f",
   "metadata": {},
   "source": [
    "## Clip to a region"
   ]
  },
  {
   "cell_type": "code",
   "execution_count": 33,
   "id": "7be2cb0a-f027-4b33-ace2-062fa818c205",
   "metadata": {},
   "outputs": [],
   "source": [
    "gdf = gdf[gdf['SUB_NAME_7']==k]"
   ]
  },
  {
   "cell_type": "code",
   "execution_count": 34,
   "id": "48d6781d-46f2-4bdc-aaaf-9a6a81ed2da3",
   "metadata": {},
   "outputs": [],
   "source": [
    "#clip to ecoregion\n",
    "geom = Geometry(geom=gdf.iloc[0].geometry, crs=gdf.crs)\n",
    "ds = ds.odc.mask(poly=geom)\n",
    "ds = ds.dropna(dim='longitude', how='all').dropna(dim='latitude', how='all')\n",
    "\n",
    "# ds = ds * ds.time.dt.daysinmonth #For DIFFUSE convert to monthly flux from daily flux \n",
    "\n",
    "ds = ds.groupby('time.year').sum() # annual sum\n",
    "\n",
    "covariables = covariables.odc.mask(poly=geom)\n",
    "covariables = covariables.dropna(dim='longitude', how='all').dropna(dim='latitude', how='all')\n",
    "\n",
    "# #summarise into 1d timeseries\n",
    "ds = ds.mean(['latitude', 'longitude'])\n",
    "covariables = covariables.mean(['latitude', 'longitude'])"
   ]
  },
  {
   "cell_type": "markdown",
   "id": "5909cc67-0c51-4d0b-a497-cca28523069d",
   "metadata": {},
   "source": [
    "## Summarise climate and CO2 data"
   ]
  },
  {
   "cell_type": "code",
   "execution_count": 35,
   "id": "3fdeee92-fc3c-4aca-afca-143058aeceb7",
   "metadata": {},
   "outputs": [],
   "source": [
    "co2 = covariables['co2'].groupby('time.year').mean()\n",
    "rain = covariables['rain'].groupby('time.year').sum()\n",
    "covariables = covariables.drop_vars(['rain', 'co2']).groupby('time.year').mean()\n",
    "\n",
    "covariables = xr.merge([co2.to_dataset(), rain.to_dataset(), covariables]).sel(year=slice('1982', '2022'))"
   ]
  },
  {
   "cell_type": "markdown",
   "id": "92fe7b26-d927-4923-aa9b-c157a5d350fb",
   "metadata": {},
   "source": [
    "## Test implementing GPP residual method\n",
    "\n",
    "Following [Zhan et al 2024](https://agupubs.onlinelibrary.wiley.com/doi/10.1029/2023JG007910)\n",
    "\n",
    "Steps:\n",
    "1. Detrend NDVI/GPP, add back median value.\n",
    "2. Detrend climate variables (T, VPD, rainf, SW), add back median value.\n",
    "3. Train model: NDVI-detrend = f(climate detrend)\n",
    "4. Predict NDVI with original climate data using model\n",
    "5. NDVI residual = Actual NDVI - predicted NDVI\n",
    "6. Beta = linear trend of NDVI residual vs CO2."
   ]
  },
  {
   "cell_type": "markdown",
   "id": "f52a917d-a516-4093-b1a3-1f3f03269993",
   "metadata": {},
   "source": [
    "### Steps 1 and 2"
   ]
  },
  {
   "cell_type": "code",
   "execution_count": 36,
   "id": "6869b388-bbc5-4601-bf06-b434676328e1",
   "metadata": {},
   "outputs": [],
   "source": [
    "df = ds.drop_vars('spatial_ref').to_dataframe(name='GPP')#.reset_index()\n",
    "# df.index = df.index.year\n",
    "# df.index.name = 'year'\n",
    "df_covars = covariables.drop_vars('spatial_ref').to_dataframe()\n",
    "df = pd.merge(df, df_covars,  on='year')"
   ]
  },
  {
   "cell_type": "code",
   "execution_count": 37,
   "id": "a66094bc-373e-4421-9ab1-7e8c061cc645",
   "metadata": {},
   "outputs": [
    {
     "data": {
      "text/html": [
       "<div>\n",
       "<style scoped>\n",
       "    .dataframe tbody tr th:only-of-type {\n",
       "        vertical-align: middle;\n",
       "    }\n",
       "\n",
       "    .dataframe tbody tr th {\n",
       "        vertical-align: top;\n",
       "    }\n",
       "\n",
       "    .dataframe thead th {\n",
       "        text-align: right;\n",
       "    }\n",
       "</style>\n",
       "<table border=\"1\" class=\"dataframe\">\n",
       "  <thead>\n",
       "    <tr style=\"text-align: right;\">\n",
       "      <th></th>\n",
       "      <th>GPP</th>\n",
       "      <th>co2</th>\n",
       "      <th>rain</th>\n",
       "      <th>srad</th>\n",
       "      <th>tavg</th>\n",
       "      <th>vpd</th>\n",
       "      <th>cwd</th>\n",
       "      <th>GPP_detrend</th>\n",
       "      <th>rain_detrend</th>\n",
       "      <th>srad_detrend</th>\n",
       "      <th>tavg_detrend</th>\n",
       "      <th>vpd_detrend</th>\n",
       "      <th>cwd_detrend</th>\n",
       "    </tr>\n",
       "    <tr>\n",
       "      <th>year</th>\n",
       "      <th></th>\n",
       "      <th></th>\n",
       "      <th></th>\n",
       "      <th></th>\n",
       "      <th></th>\n",
       "      <th></th>\n",
       "      <th></th>\n",
       "      <th></th>\n",
       "      <th></th>\n",
       "      <th></th>\n",
       "      <th></th>\n",
       "      <th></th>\n",
       "      <th></th>\n",
       "    </tr>\n",
       "  </thead>\n",
       "  <tbody>\n",
       "    <tr>\n",
       "      <th>1982</th>\n",
       "      <td>471.563956</td>\n",
       "      <td>337.845184</td>\n",
       "      <td>923.142639</td>\n",
       "      <td>16.248457</td>\n",
       "      <td>15.494817</td>\n",
       "      <td>6.421428</td>\n",
       "      <td>45.844116</td>\n",
       "      <td>505.447383</td>\n",
       "      <td>945.660583</td>\n",
       "      <td>16.285000</td>\n",
       "      <td>15.743988</td>\n",
       "      <td>6.709466</td>\n",
       "      <td>47.669895</td>\n",
       "    </tr>\n",
       "    <tr>\n",
       "      <th>1983</th>\n",
       "      <td>498.449793</td>\n",
       "      <td>338.966156</td>\n",
       "      <td>1006.667236</td>\n",
       "      <td>16.291990</td>\n",
       "      <td>16.321960</td>\n",
       "      <td>6.707270</td>\n",
       "      <td>52.058178</td>\n",
       "      <td>531.241711</td>\n",
       "      <td>1030.031494</td>\n",
       "      <td>16.324154</td>\n",
       "      <td>16.558296</td>\n",
       "      <td>6.981145</td>\n",
       "      <td>53.797527</td>\n",
       "    </tr>\n",
       "    <tr>\n",
       "      <th>1984</th>\n",
       "      <td>538.426702</td>\n",
       "      <td>341.195160</td>\n",
       "      <td>1114.708740</td>\n",
       "      <td>16.234045</td>\n",
       "      <td>15.411475</td>\n",
       "      <td>6.899579</td>\n",
       "      <td>46.527477</td>\n",
       "      <td>570.127110</td>\n",
       "      <td>1138.919312</td>\n",
       "      <td>16.261831</td>\n",
       "      <td>15.634976</td>\n",
       "      <td>7.159291</td>\n",
       "      <td>48.180401</td>\n",
       "    </tr>\n",
       "  </tbody>\n",
       "</table>\n",
       "</div>"
      ],
      "text/plain": [
       "             GPP         co2         rain       srad       tavg       vpd  \\\n",
       "year                                                                        \n",
       "1982  471.563956  337.845184   923.142639  16.248457  15.494817  6.421428   \n",
       "1983  498.449793  338.966156  1006.667236  16.291990  16.321960  6.707270   \n",
       "1984  538.426702  341.195160  1114.708740  16.234045  15.411475  6.899579   \n",
       "\n",
       "            cwd  GPP_detrend  rain_detrend  srad_detrend  tavg_detrend  \\\n",
       "year                                                                     \n",
       "1982  45.844116   505.447383    945.660583     16.285000     15.743988   \n",
       "1983  52.058178   531.241711   1030.031494     16.324154     16.558296   \n",
       "1984  46.527477   570.127110   1138.919312     16.261831     15.634976   \n",
       "\n",
       "      vpd_detrend  cwd_detrend  \n",
       "year                            \n",
       "1982     6.709466    47.669895  \n",
       "1983     6.981145    53.797527  \n",
       "1984     7.159291    48.180401  "
      ]
     },
     "execution_count": 37,
     "metadata": {},
     "output_type": "execute_result"
    }
   ],
   "source": [
    "for v in ['GPP', 'rain', 'srad', 'tavg', 'vpd', 'cwd']:\n",
    "    df[f'{v}_detrend'] = detrend(df[v])\n",
    "    df[f'{v}_detrend'] = df[f'{v}_detrend'] + df[v].median()\n",
    "\n",
    "df.head(3)"
   ]
  },
  {
   "cell_type": "markdown",
   "id": "d29d4c0d-65ca-4e1d-a294-b9f6a44ee0bd",
   "metadata": {},
   "source": [
    "### Step 3"
   ]
  },
  {
   "cell_type": "code",
   "execution_count": 38,
   "id": "2054f96d-f926-40e7-881b-b19f394ad445",
   "metadata": {},
   "outputs": [],
   "source": [
    "#fit a model\n",
    "x = df[['rain_detrend', 'srad_detrend', 'tavg_detrend', 'vpd_detrend', 'cwd_detrend']] #detrended data\n",
    "xx = df[['rain', 'srad', 'tavg', 'vpd', 'cwd']]\n",
    "y = df['GPP_detrend']\n",
    "\n",
    "#fit a RF model using detrended values\n",
    "rf = RandomForestRegressor(n_estimators=100).fit(x, y)"
   ]
  },
  {
   "cell_type": "markdown",
   "id": "f9039a99-b5d9-414d-bfaf-c43a1f3c445e",
   "metadata": {},
   "source": [
    "### Step 4"
   ]
  },
  {
   "cell_type": "code",
   "execution_count": 39,
   "id": "5bd6cef6-c173-48b5-aa29-86d9b9f6fbf5",
   "metadata": {},
   "outputs": [],
   "source": [
    "## predict using original climate data (add suffix to trick scikit learn)\n",
    "df['GPP_predict'] = rf.predict(xx.add_suffix('_detrend'))"
   ]
  },
  {
   "cell_type": "markdown",
   "id": "fd4f30e6-950d-47e8-a7c7-fac9ce25bfdd",
   "metadata": {},
   "source": [
    "### Step 5"
   ]
  },
  {
   "cell_type": "code",
   "execution_count": 40,
   "id": "9cc3ecce-3949-4a49-85ff-cce1e9977eb6",
   "metadata": {},
   "outputs": [],
   "source": [
    "df['GPP_residual'] = df['GPP'] - df['GPP_predict']\n",
    "df['GPP_residual_percent'] = df['GPP_residual']/df['GPP'][0:5].mean()"
   ]
  },
  {
   "cell_type": "code",
   "execution_count": 41,
   "id": "5dd99d76-dab4-4d82-87ea-dfe9037295ae",
   "metadata": {},
   "outputs": [
    {
     "data": {
      "text/plain": [
       "0.46844692859227727"
      ]
     },
     "execution_count": 41,
     "metadata": {},
     "output_type": "execute_result"
    }
   ],
   "source": [
    "gpp_t0 = df['GPP'][0:5].mean()\n",
    "gpp_t1 = df['GPP'][-5:].mean()\n",
    "co2_t0 = 338\n",
    "co2_t1 = 414\n",
    "response_ratio = ((gpp_t1 - gpp_t0) / gpp_t0) / ((co2_t1 - co2_t0) / co2_t0)\n",
    "response_ratio"
   ]
  },
  {
   "cell_type": "markdown",
   "id": "694f95fe-dfe7-4303-bc3b-b17dfe6ccd2c",
   "metadata": {},
   "source": [
    "### Step 6"
   ]
  },
  {
   "cell_type": "code",
   "execution_count": 42,
   "id": "4ab99c5f-60e2-4d9d-9b2a-c8cfeb7e7651",
   "metadata": {},
   "outputs": [
    {
     "data": {
      "image/png": "[encoded data removed]",
      "text/plain": [
       "<Figure size 1100x400 with 2 Axes>"
      ]
     },
     "metadata": {},
     "output_type": "display_data"
    }
   ],
   "source": [
    "#find robust regression slope\n",
    "beta  = theilslopes(y=df['GPP_residual'], x=df['co2']).slope\n",
    "beta_relative = theilslopes(y=df['GPP_residual_percent'], x=df['co2']).slope * 100 * 100\n",
    "pvalue = kendalltau(y=df['GPP_residual'], x=df['co2']).pvalue\n",
    "\n",
    "fig,ax = plt.subplots(1,2, figsize=(11,4))\n",
    "df['GPP'].plot(ax=ax[0], label='GPP', linestyle='dashed', color='k')\n",
    "df['GPP_predict'].plot(ax=ax[0], label='GPP-climate-predicted')\n",
    "ax[0].set_ylabel('GPP gC m\\N{SUPERSCRIPT TWO} yr⁻¹')\n",
    "ax[0].set_title('IBRA region: '+k)\n",
    "ax[0].grid(alpha=0.5)\n",
    "ax[0].set_xlabel(None)\n",
    "ax[0].legend()\n",
    "\n",
    "sb.scatterplot(data=df, x='co2',y='GPP_residual', s=40, lw=1,ax=ax[1])\n",
    "sb.regplot(data=df, x='co2',y='GPP_residual', scatter=False, color='darkblue', ax=ax[1], ci=None, robust=False)\n",
    "ax[1].set_ylabel('GPP residual yr⁻¹')\n",
    "ax[1].set_xlabel('CO2 (ppm)')\n",
    "# ax[1].set_ylim(-2,2)\n",
    "ax[1].grid(alpha=0.5)\n",
    "ax[1].set_title('Zhan (2024) method')\n",
    "ax[1].text(.05, .90, '\\u03B2={:.3f} GPP gC m\\N{SUPERSCRIPT TWO} yr⁻¹ ppm⁻¹'.format(beta) ,\n",
    "            transform=ax[1].transAxes, fontsize=12);\n",
    "ax[1].text(.05, .825, '\\u03B2={:.1f} % GPP / 100ppm'.format(beta_relative) ,\n",
    "            transform=ax[1].transAxes, fontsize=12);\n",
    "ax[1].text(.05, .75, 'p={:.4f}'.format(pvalue) ,\n",
    "            transform=ax[1].transAxes, fontsize=12);"
   ]
  },
  {
   "cell_type": "markdown",
   "id": "41df80b9-360f-4e35-9d21-029174da9562",
   "metadata": {},
   "source": [
    "## Test experiments holding CO2 constant\n",
    "\n",
    "Residual between prediction when all variables kept original, and where CO2 is kept constant.\n",
    "\n",
    "1. Model GPP/NDVI using CO2, SRAD, VPD, rain, Tavg\n",
    "2. Model GPP/NDVI with CO2 set at average of first 3 years.\n",
    "3. Find residual between GPP/NDVI-predicted and GPP/NDVI-CO2-constant\n",
    "4. Plot residual GPP/NDVI against CO2 and determine beta"
   ]
  },
  {
   "cell_type": "markdown",
   "id": "e7265429-82a2-4965-b019-7bd4f26ef408",
   "metadata": {},
   "source": [
    "### Modelling"
   ]
  },
  {
   "cell_type": "code",
   "execution_count": null,
   "id": "2c03dc40-4ec6-488a-8c9a-9c463a9eadc9",
   "metadata": {},
   "outputs": [],
   "source": [
    "# fit a model on observed data\n",
    "x = df[['rain', 'srad', 'tavg', 'vpd', 'co2', 'cwd']] # original data\n",
    "y = df['GPP']\n",
    "\n",
    "lr = PLSRegression(n_components=2).fit(x, y)\n",
    "prediction = lr.predict(x)\n",
    "\n",
    "# now fit a model with CO2 held constant\n",
    "constant_co2 = x['co2'].iloc[0:3].mean() #average of first 3 years\n",
    "xx = x.drop('co2', axis=1)\n",
    "xx['co2'] = constant_co2\n",
    "\n",
    "lrr = PLSRegression(n_components=2).fit(xx, y)\n",
    "pred_co2_constant = lrr.predict(xx)\n",
    "\n",
    "# determine residual between predicted with and without co2 held constant\n",
    "df['GPP_residual_co2constant'] =  prediction - pred_co2_constant\n",
    "\n",
    "df['GPP_residual_co2constant_percent'] = df['GPP_residual_co2constant']/np.mean(prediction[0:5]) #"
   ]
  },
  {
   "cell_type": "markdown",
   "id": "fb4ffb1b-fbb9-4f93-aa2e-f4ae1efa2837",
   "metadata": {},
   "source": [
    "### Plot"
   ]
  },
  {
   "cell_type": "code",
   "execution_count": null,
   "id": "89f2685f-02ff-4c9b-8e50-832d085cd091",
   "metadata": {},
   "outputs": [],
   "source": [
    "#find robust regression slope\n",
    "regress  = theilslopes(y=df['GPP_residual_co2constant'], x=df['co2'])\n",
    "beta = regress.slope \n",
    "\n",
    "beta_relative = theilslopes(y=df['GPP_residual_co2constant_percent'], x=df['co2']).slope * 100 * 100\n",
    "pvalue = kendalltau(y=df['GPP_residual_co2constant'], x=df['co2']).pvalue\n",
    "\n",
    "fig,ax = plt.subplots(1,2, figsize=(11,4))\n",
    "ax[0].plot(df.index, prediction, label='GPP predicted', linestyle='dashed', color='k')\n",
    "ax[0].plot(df.index, pred_co2_constant, label='GPP-CO2-constant')\n",
    "ax[0].plot(df.index, df['GPP'].values, label='GPP-Observed')\n",
    "\n",
    "ax[0].set_ylabel('GPP gC m\\N{SUPERSCRIPT TWO} yr⁻¹')\n",
    "ax[0].set_title('IBRA region: '+k)\n",
    "ax[0].grid(alpha=0.5)\n",
    "ax[0].set_xlabel(None)\n",
    "ax[0].legend()\n",
    "\n",
    "sb.scatterplot(data=df, x='co2',y='GPP_residual_co2constant', s=40, lw=1,ax=ax[1])\n",
    "sb.regplot(data=df, x='co2',y='GPP_residual_co2constant', scatter=False, color='darkblue', ax=ax[1], ci=None, robust=True)\n",
    "ax[1].set_ylabel('GPP residual')\n",
    "ax[1].set_xlabel('CO2 (ppm)')\n",
    "# ax[1].set_ylim(-300,300)\n",
    "ax[1].set_title('CO2 held constant method')\n",
    "ax[1].grid(alpha=0.5)\n",
    "ax[1].text(.05, .90, '\\u03B2={:.2f} GPP gC m\\N{SUPERSCRIPT TWO} yr⁻¹ ppm⁻¹'.format(beta),\n",
    "            transform=ax[1].transAxes, fontsize=12);\n",
    "ax[1].text(.05, .825, '\\u03B2={:.1f} % GPP yr⁻¹ / 100ppm'.format(beta_relative) ,\n",
    "            transform=ax[1].transAxes, fontsize=12);\n",
    "ax[1].text(.05, .75, 'p={:.4f}'.format(pvalue) ,\n",
    "            transform=ax[1].transAxes, fontsize=12);"
   ]
  },
  {
   "cell_type": "code",
   "execution_count": null,
   "id": "4c239378-7257-46e2-817f-9df82aa89bed",
   "metadata": {},
   "outputs": [],
   "source": []
  },
  {
   "cell_type": "markdown",
   "id": "66a8b4ad-14a8-499b-8125-eabcc0b6862c",
   "metadata": {},
   "source": [
    "##"
   ]
  },
  {
   "cell_type": "code",
   "execution_count": null,
   "id": "643386fb-fb45-4f20-9417-873ab73cab10",
   "metadata": {},
   "outputs": [],
   "source": [
    "# k = 'Eastern Darling Downs rainfed crop' # Claraville Plains Eastern Darling Downs rainfed crop Geraldton Hills rainfed crop\n",
    "\n",
    "# ds = eco_regions_phenometrics[k].to_xarray().expand_dims(latitude=[-33.0],longitude=[135.0])"
   ]
  },
  {
   "cell_type": "code",
   "execution_count": null,
   "id": "fb102e83-b25b-42d5-b32a-0ec7fec870e5",
   "metadata": {},
   "outputs": [],
   "source": [
    "# def calculate_beta(ds):\n",
    "#     # count number of seasons\n",
    "#     # and how many years was this over?\n",
    "#     n_seasons = len(ds.index)\n",
    "    \n",
    "#     a = ds.POS_year.isel(index=0).values.item()\n",
    "#     b = ds.POS_year.isel(index=-1).values.item()\n",
    "    \n",
    "#     if np.isnan(a):\n",
    "#         n_years=39\n",
    "#     else:\n",
    "#         n_years = len([i for i in range(int(a),int(b)+1)])\n",
    "    \n",
    "#     #first check if its nodata and do a quick mean\n",
    "#     # if ds.vPOS.isel(index=0).values.item() == -99.0:\n",
    "#     if np.isnan(ds.vPOS.isel(index=0).values.item()):\n",
    "#         dd = ds.mean('index')\n",
    "        \n",
    "#     else: \n",
    "#         #calculate circular statistics for seasonal timings\n",
    "#         circ_stats = []\n",
    "#         for var in ['SOS', 'POS', 'EOS', 'TOS']:\n",
    "            \n",
    "#             data = pd.DataFrame({\n",
    "#                 \"year\": ds[f'{var}_year'].squeeze().values,\n",
    "#                 \"day_of_year\": ds[var].squeeze().values\n",
    "#             })\n",
    "        \n",
    "#             # Number of days in a year (adjusting for leap years)\n",
    "#             data['days_in_year'] = data['year'].apply(lambda y: 366 if y % 4 == 0 and (y % 100 != 0 or y % 400 == 0) else 365)\n",
    "            \n",
    "#             # Convert day-of-year to circular coordinates doy / 365 * 2 * np.pi\n",
    "#             data['theta'] = data['day_of_year']*((2*np.pi)/data['days_in_year'])\n",
    "#             data['theta_unwrap'] = np.unwrap(data['theta'])\n",
    "            \n",
    "#             # Calculate circular mean, convert back to DOY\n",
    "#             circular_mean = circmean(data['theta'], nan_policy='omit')\n",
    "#             circular_std = circstd(data['theta'], nan_policy='omit')\n",
    "#             circular_mean_doy = circular_mean / (2 * np.pi) * 365\n",
    "#             # circular_std_doy = circular_std / (2 * np.pi) * 365\n",
    "        \n",
    "#             df = pd.DataFrame({\n",
    "#                 f'{var}': [circular_mean_doy],\n",
    "#                 # f'{var}_std': [circular_std_doy],\n",
    "#                 })\n",
    "        \n",
    "#             circ_stats.append(df)\n",
    "\n",
    "#         # For the other variables use Kirill's much much faster quantile function (median stats)\n",
    "#         dd_circ = pd.concat(circ_stats, axis=1).to_xarray().squeeze().expand_dims(latitude=ds.latitude,longitude=ds.longitude).drop_vars('index')\n",
    "#         ds = ds.transpose('index', 'latitude', 'longitude')\n",
    "#         other_vars=['vTOS','vSOS','vPOS','vEOS','AOS','LOS','IOS','IOC','LOC','ROG','ROS']\n",
    "#         dd_median = xr_quantile(ds[other_vars], quantiles=[0.5], nodata=np.nan)\n",
    "#         dd_median = dd_median.sel(quantile=0.5).drop_vars('quantile')\n",
    "        \n",
    "#         dd = xr.merge([dd_median, dd_circ]).astype('float32')\n",
    "\n",
    "#     # add new variable with number of seasons\n",
    "#     dd['n_seasons'] = n_seasons\n",
    "#     dd['n_seasons'] = dd['n_seasons'].expand_dims(\n",
    "#         latitude=dd.latitude,\n",
    "#         longitude=dd.longitude\n",
    "#     )\n",
    "    \n",
    "#     dd['n_years'] = n_years\n",
    "#     dd['n_years'] = dd['n_years'].expand_dims(\n",
    "#         latitude=dd.latitude,\n",
    "#         longitude=dd.longitude\n",
    "#     )\n",
    "#     return dd\n"
   ]
  },
  {
   "cell_type": "code",
   "execution_count": null,
   "id": "a3895acd-ec2b-4fd4-b285-1ba0b6426e81",
   "metadata": {},
   "outputs": [],
   "source": [
    "# circular_mean_and_median(ds)"
   ]
  }
 ],
 "metadata": {
  "kernelspec": {
   "display_name": "Python 3 (ipykernel)",
   "language": "python",
   "name": "python3"
  },
  "language_info": {
   "codemirror_mode": {
    "name": "ipython",
    "version": 3
   },
   "file_extension": ".py",
   "mimetype": "text/x-python",
   "name": "python",
   "nbconvert_exporter": "python",
   "pygments_lexer": "ipython3",
   "version": "3.10.0"
  }
 },
 "nbformat": 4,
 "nbformat_minor": 5
}
