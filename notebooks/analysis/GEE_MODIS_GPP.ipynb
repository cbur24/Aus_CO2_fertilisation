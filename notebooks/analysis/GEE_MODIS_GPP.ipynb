{
 "cells": [
  {
   "cell_type": "markdown",
   "id": "738dbfc3-dc7e-49c1-93c4-5affb2881f24",
   "metadata": {},
   "source": [
    "## Download and process MODIS GPP from GEE"
   ]
  },
  {
   "cell_type": "code",
   "execution_count": null,
   "id": "45d1b66a-005b-4fe6-bb78-c5a5ef32acf8",
   "metadata": {},
   "outputs": [],
   "source": [
    "import os\n",
    "import ee\n",
    "import geemap\n",
    "# import wxee\n",
    "# import eemont\n",
    "import warnings\n",
    "import xarray as xr\n",
    "import pandas as pd\n",
    "import numpy as np\n",
    "\n",
    "from odc.geo.xr import assign_crs"
   ]
  },
  {
   "cell_type": "code",
   "execution_count": null,
   "id": "ab6f65da-e0e0-4894-a0a3-a87756a2924e",
   "metadata": {},
   "outputs": [],
   "source": [
    "# Trigger the authentication flow.\n",
    "# ee.Authenticate()\n",
    "\n",
    "# Initialize the library.\n",
    "ee.Initialize()"
   ]
  },
  {
   "cell_type": "code",
   "execution_count": null,
   "id": "1af1b3b8-f0f0-4d01-b473-a50881644616",
   "metadata": {},
   "outputs": [],
   "source": [
    "product = 'CAS/IGSNRR/PML/V2_v018'\n",
    "# product = 'MODIS/061/MOD17A2H'\n",
    "bands = ['GPP']\n",
    "start_date = '1/1/2001'\n",
    "end_date = '12/31/2023'\n",
    "output_crs = \"EPSG:3577\"\n",
    "resolution = 1000\n",
    "\n",
    "# ~Aus region\n",
    "region = ee.Geometry.Polygon([[\n",
    "            [110,-43.0],\n",
    "            [155,-43.0],\n",
    "            [155,-9.0],\n",
    "            [110,-9.0],\n",
    "            [110,-43.0]]])\n"
   ]
  },
  {
   "cell_type": "code",
   "execution_count": null,
   "id": "54d76182-5adf-4bf5-9333-eb0aa0d5c948",
   "metadata": {},
   "outputs": [],
   "source": [
    "#use start and end dates to loop through months and load GEE data\n",
    "start = pd.date_range(start=start_date, end=end_date, freq='MS') \n",
    "end = pd.date_range(start=start_date, end=end_date, freq='ME')\n",
    "\n",
    "i = 0\n",
    "for s, e in zip(start,end):\n",
    "    print(\" {:03}/{:03}\\r\".format(i+1, len(start)), end=\"\")\n",
    "    # print(s, e)\n",
    "    ss = s+pd.Timedelta(14, 'd')\n",
    "    s = s.strftime('%Y-%m-%d')\n",
    "    e = e.strftime('%Y-%m-%d')\n",
    "\n",
    "    ds = (ee.ImageCollection(product) \n",
    "      .filterDate(s,e) \n",
    "      .map(lambda image: image.clip(region))\n",
    "      .select(bands)\n",
    "      # .map(lambda image: image.multiply(0.0001))\n",
    "      .reduce(ee.Reducer.median())\n",
    "         )\n",
    " \n",
    "    export = ee.batch.Export.image.toDrive(ds,\n",
    "        description='GPP_PMLv2'+'_'+ss.strftime('%Y-%m-%d'),\n",
    "        folder='GPP_PMLv2',\n",
    "        region=region,\n",
    "        scale=resolution,\n",
    "        crs=output_crs,\n",
    "        maxPixels=1e13,\n",
    "        fileFormat='GeoTIFF',\n",
    "        formatOptions={\n",
    "            'cloudOptimized':True\n",
    "              }\n",
    "        )\n",
    "    export.start()\n",
    "    \n",
    "    i+=1\n"
   ]
  },
  {
   "cell_type": "markdown",
   "id": "5ea346b9-dee3-4187-a1ef-bf1ba2760fac",
   "metadata": {},
   "source": [
    "## Plot a map"
   ]
  },
  {
   "cell_type": "code",
   "execution_count": null,
   "id": "ffb5bb51-5f1b-4c17-b8b1-25124b5029e2",
   "metadata": {},
   "outputs": [],
   "source": [
    "# Using basemap in geemap\n",
    "Map = geemap.Map(center=[-35.2041, 149.2721], zoom=4)\n",
    "\n",
    "# ndvi_palette=['FFFFFF', 'CE7E45', 'DF923D', 'F1B555', 'FCD163', '99B718',\n",
    "#                '74A901', '66A000', '529400', '3E8601', '207401', '056201',\n",
    "#                '004C00', '023B01', '012E01', '011D01', '011301']\n",
    "\n",
    "ndvi_palette = [\n",
    "    'a50026', 'd73027', 'f46d43', 'fdae61', 'fee08b', 'ffffbf',\n",
    "    'd9ef8b', 'a6d96a', '66bd63', '1a9850', '006837',\n",
    "  ]\n",
    "\n",
    "ndviVis = {'min': 0, 'max': 10, 'palette': ndvi_palette}\n",
    "\n",
    "Map.addLayer(ds, ndviVis)\n",
    "Map"
   ]
  },
  {
   "cell_type": "markdown",
   "id": "b74abcd8-8984-410e-a7df-9327d277952c",
   "metadata": {},
   "source": [
    "## Stitch together geotiffs"
   ]
  },
  {
   "cell_type": "code",
   "execution_count": null,
   "id": "0a633ff4-a30c-4321-8542-d9e81f74d5a5",
   "metadata": {},
   "outputs": [],
   "source": [
    "import os\n",
    "import pickle\n",
    "import xarray as xr\n",
    "import numpy as np\n",
    "import pandas as pd\n",
    "from odc.geo.xr import assign_crs\n",
    "import sys\n",
    "sys.path.append('/g/data/os22/chad_tmp/AusEFlux/src/')\n",
    "from _utils import round_coords"
   ]
  },
  {
   "cell_type": "code",
   "execution_count": null,
   "id": "139bce6b-5061-4c4c-8493-4d5af09e8bba",
   "metadata": {},
   "outputs": [],
   "source": [
    "base='/g/data/os22/chad_tmp/Aus_CO2_fertilisation/data/GPP_PMLv2/'\n",
    "name= 'GPP'\n",
    "dates_start = '2001-01-01'\n",
    "dates_end = '2023-12-31'"
   ]
  },
  {
   "cell_type": "code",
   "execution_count": null,
   "id": "2230b1e5-340d-4191-828b-18658931d2d8",
   "metadata": {},
   "outputs": [],
   "source": [
    "files = [base+i for i in os.listdir(base) if i.endswith('.tif')]\n",
    "files.sort()\n",
    "\n",
    "time = (pd.date_range(dates_start, dates_end, freq='MS') + pd.DateOffset(days=14)).to_numpy()\n",
    "time = list(time)\n",
    "\n",
    "print(len(files), print(len(time)))"
   ]
  },
  {
   "cell_type": "code",
   "execution_count": null,
   "id": "dd864857-990d-4c71-8126-578d5e90f2b7",
   "metadata": {},
   "outputs": [],
   "source": [
    "i=0\n",
    "arrs=[]\n",
    "for f, t in zip(files, time):\n",
    "    print(\" {:02}/{:02}\\r\".format(i + 1, len(files)), end=\"\")\n",
    "    \n",
    "    ds = xr.open_dataarray(f).squeeze().drop_vars('band').astype('float32')\n",
    "    ds = ds.expand_dims(time=[t])\n",
    "    ds = ds.rename(name)\n",
    "    \n",
    "    del ds.attrs['long_name']\n",
    "    del ds.attrs['AREA_OR_POINT']\n",
    "\n",
    "    ds.attrs['nodata']=np.nan\n",
    "    ds = ds.drop_vars('spatial_ref')\n",
    "    ds = assign_crs(ds, crs='epsg:3577')\n",
    "    arrs.append(ds)\n",
    "\n",
    "    i+=1 "
   ]
  },
  {
   "cell_type": "code",
   "execution_count": null,
   "id": "95d75c2a-0382-43c6-b7fa-05661e164bae",
   "metadata": {},
   "outputs": [],
   "source": [
    "ds = xr.concat(arrs, dim='time').sortby('time')"
   ]
  },
  {
   "cell_type": "code",
   "execution_count": null,
   "id": "eb1b937c-c725-4950-aea6-143640ff0bf4",
   "metadata": {},
   "outputs": [],
   "source": [
    "with open(f'/g/data/xc0/project/AusEFlux/data/grid_1km', 'rb') as f:\n",
    "    gbox_1km = pickle.load(f)\n",
    "\n",
    "with open(f'/g/data/xc0/project/AusEFlux/data/grid_5km', 'rb') as f:\n",
    "    gbox_5km = pickle.load(f)\n",
    "\n",
    "mask_1km = xr.open_dataset(f'/g/data/xc0/project/AusEFlux/data/land_sea_mask_1km.nc')['landsea_mask_1km']\n",
    "mask_5km = xr.open_dataset(f'/g/data/xc0/project/AusEFlux/data/land_sea_mask_5km.nc')['landsea_mask_5km']"
   ]
  },
  {
   "cell_type": "code",
   "execution_count": null,
   "id": "98531cc3-1f72-408a-a092-4a9d13d2e013",
   "metadata": {},
   "outputs": [],
   "source": [
    "ds = ds.odc.reproject(how=gbox_1km, resampling='bilinear')\n",
    "ds_5km = ds.odc.reproject(how=gbox_5km, resampling='bilinear')"
   ]
  },
  {
   "cell_type": "code",
   "execution_count": null,
   "id": "1649c005-2342-4a9b-8221-3306d9350b75",
   "metadata": {},
   "outputs": [],
   "source": [
    "ds = round_coords(ds)\n",
    "ds_5km = round_coords(ds_5km)\n",
    "\n",
    "ds = ds.where(mask_1km)\n",
    "ds_5km = ds_5km.where(mask_5km)"
   ]
  },
  {
   "cell_type": "code",
   "execution_count": null,
   "id": "7dfc34c4-62f7-4953-9c84-0f8876baaa1e",
   "metadata": {},
   "outputs": [],
   "source": [
    "ds = ds * ds.time.dt.daysinmonth\n",
    "ds_5km = ds_5km * ds_5km.time.dt.daysinmonth\n",
    "\n",
    "ds.name='GPP'\n",
    "ds_5km.name='GPP'"
   ]
  },
  {
   "cell_type": "code",
   "execution_count": null,
   "id": "5fec1e4b-6fed-40bb-924f-a100a39defca",
   "metadata": {},
   "outputs": [],
   "source": [
    "ds.astype('float32').to_netcdf('/g/data/os22/chad_tmp/Aus_CO2_fertilisation/data/PML_GPP_1km_2001_2023.nc')\n",
    "ds_5km.astype('float32').to_netcdf('/g/data/os22/chad_tmp/Aus_CO2_fertilisation/data/PML_GPP_5km_2001_2023.nc')"
   ]
  },
  {
   "cell_type": "code",
   "execution_count": null,
   "id": "5ef3f0e5-3219-4fbc-868e-47c8c22139fb",
   "metadata": {},
   "outputs": [],
   "source": []
  }
 ],
 "metadata": {
  "kernelspec": {
   "display_name": "Python 3 (ipykernel)",
   "language": "python",
   "name": "python3"
  },
  "language_info": {
   "codemirror_mode": {
    "name": "ipython",
    "version": 3
   },
   "file_extension": ".py",
   "mimetype": "text/x-python",
   "name": "python",
   "nbconvert_exporter": "python",
   "pygments_lexer": "ipython3",
   "version": "3.10.0"
  }
 },
 "nbformat": 4,
 "nbformat_minor": 5
}
