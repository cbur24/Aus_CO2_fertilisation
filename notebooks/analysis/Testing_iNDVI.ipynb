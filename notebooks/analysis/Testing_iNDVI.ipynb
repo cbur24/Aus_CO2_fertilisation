{
 "cells": [
  {
   "cell_type": "markdown",
   "id": "8d6185d6-5015-4c74-a294-e3c3cea28081",
   "metadata": {},
   "source": [
    "# Testing methods for extracting CO2 fertilisation effect from NDVI\n"
   ]
  },
  {
   "cell_type": "code",
   "execution_count": null,
   "id": "be0c7445-4b35-4c1a-b586-353f4a293c32",
   "metadata": {
    "tags": []
   },
   "outputs": [],
   "source": [
    "%matplotlib inline\n",
    "\n",
    "import sys\n",
    "import pickle\n",
    "import warnings\n",
    "import numpy as np\n",
    "import xarray as xr\n",
    "import pandas as pd\n",
    "import seaborn as sb\n",
    "import scipy.stats\n",
    "import geopandas as gpd\n",
    "import matplotlib.pyplot as plt\n",
    "from odc.geo.xr import assign_crs\n",
    "from odc.geo.geom import Geometry\n",
    "from scipy.signal import detrend\n",
    "from scipy.stats import theilslopes, kendalltau\n",
    "\n",
    "from sklearn.ensemble import RandomForestRegressor\n",
    "from sklearn.cross_decomposition import PLSRegression\n",
    "\n",
    "# sys.path.append('/g/data/os22/chad_tmp/Aus_CO2_fertilisation/src')"
   ]
  },
  {
   "cell_type": "markdown",
   "id": "a36d45f1-6dd9-44b4-bb31-825db4303234",
   "metadata": {},
   "source": [
    "## Analysis Parameters"
   ]
  },
  {
   "cell_type": "code",
   "execution_count": null,
   "id": "3ea1bf71-29b3-4ea7-a9b9-0989f9bfb1f1",
   "metadata": {
    "tags": []
   },
   "outputs": [],
   "source": [
    "# k = 'Alice Tableland'\n",
    "# k = 'Western Mallee'\n",
    "# k='Daintree-Bloomfield'\n",
    "k='Warre'\n",
    "# k = 'Victorian Alps'\n",
    "\n",
    "# NDVI data\n",
    "ds_path = f'/g/data/os22/chad_tmp/AusENDVI/results/publication/AusENDVI-clim_MCD43A4_gapfilled_1982_2022_0.2.0.nc'\n",
    "\n",
    "# soil NDVI\n",
    "ndvi_min_path =f'/g/data/os22/chad_tmp/Aus_CO2_fertilisation/data/ndvi_of_baresoil_5km.nc'\n",
    "\n",
    "#ibra subregions\n",
    "ecoregions_file = f'/g/data/os22/chad_tmp/Aus_phenology/data/vectors/IBRAv7_subregions_modified.geojson'\n",
    "\n",
    "#climate data\n",
    "covar_file = f'/g/data/os22/chad_tmp/Aus_CO2_fertilisation/data/covars.nc'\n",
    "\n",
    "t1,t2 = '1982', '2022'"
   ]
  },
  {
   "cell_type": "markdown",
   "id": "f70ab9b0-eab2-4666-b29e-c8a36660a864",
   "metadata": {},
   "source": [
    "## Interactively plot IBRA regions\n",
    "\n",
    "Hover over the regions to see its name"
   ]
  },
  {
   "cell_type": "code",
   "execution_count": null,
   "id": "0ed2819e-e7c4-45a3-82f7-da3273d4313c",
   "metadata": {},
   "outputs": [],
   "source": [
    "# gdf = gpd.read_file(ecoregions_file)\n",
    "# gdf.explore(column='SUB_NAME_7',\n",
    "#             tiles = 'https://server.arcgisonline.com/ArcGIS/rest/services/World_Imagery/MapServer/tile/{z}/{y}/{x}',\n",
    "#             attr = 'Esri',\n",
    "#             name = 'Esri Satellite',\n",
    "#             control = True,\n",
    "#             legend=False\n",
    "#            )"
   ]
  },
  {
   "cell_type": "markdown",
   "id": "86e485e8-b3f4-4712-b238-a41d0fa2e35c",
   "metadata": {},
   "source": [
    "## Open data"
   ]
  },
  {
   "cell_type": "code",
   "execution_count": null,
   "id": "70ea51ff-c2d6-47f4-851a-1b36f9b6b282",
   "metadata": {
    "tags": []
   },
   "outputs": [],
   "source": [
    "gdf = gpd.read_file(ecoregions_file)\n",
    "\n",
    "ds = assign_crs(xr.open_dataset(ds_path), crs='EPSG:4326')\n",
    "ds = ds.rename({'AusENDVI_clim_MCD43A4':'NDVI'})\n",
    "ds = ds['NDVI'].sel(time=slice(t1, t2))\n",
    "\n",
    "# subtract soil signal\n",
    "ndvi_min = assign_crs(xr.open_dataset(ndvi_min_path)['NDVI'], crs='epsg:4326')\n",
    "# ds = ds - ndvi_min #bare soil value\n",
    "ds.name = 'NDVI'\n",
    "\n",
    "covariables =  xr.open_dataset(covar_file)\n",
    "covariables = covariables.drop_vars(['wcf', 'smrz'])"
   ]
  },
  {
   "cell_type": "markdown",
   "id": "96e2ce51-d9e7-4933-b55b-eff7aa7bfa0f",
   "metadata": {},
   "source": [
    "## Clip to a region"
   ]
  },
  {
   "cell_type": "code",
   "execution_count": null,
   "id": "7be2cb0a-f027-4b33-ace2-062fa818c205",
   "metadata": {},
   "outputs": [],
   "source": [
    "gdf = gdf[gdf['SUB_NAME_7']==k]"
   ]
  },
  {
   "cell_type": "code",
   "execution_count": null,
   "id": "48d6781d-46f2-4bdc-aaaf-9a6a81ed2da3",
   "metadata": {},
   "outputs": [],
   "source": [
    "#clip to ecoregion\n",
    "geom = Geometry(geom=gdf.iloc[0].geometry, crs=gdf.crs)\n",
    "ds = ds.odc.mask(poly=geom)\n",
    "ds = ds.dropna(dim='longitude', how='all').dropna(dim='latitude', how='all')\n",
    "\n",
    "covariables = covariables.odc.mask(poly=geom)\n",
    "covariables = covariables.dropna(dim='longitude', how='all').dropna(dim='latitude', how='all')\n",
    "\n",
    "# #summarise into 1d timeseries\n",
    "ds = ds.mean(['latitude', 'longitude'])\n",
    "covariables = covariables.mean(['latitude', 'longitude'])"
   ]
  },
  {
   "cell_type": "markdown",
   "id": "e311daa7-80f2-4800-8b41-06873a7c1178",
   "metadata": {},
   "source": [
    "<!-- ## Interpolate and smooth\n",
    "\n",
    "Need to upsample to daily to integrate as month and year don't make sense due to different length months and years. -->"
   ]
  },
  {
   "cell_type": "code",
   "execution_count": null,
   "id": "02843dde-7348-40ef-9e27-dfb456819400",
   "metadata": {},
   "outputs": [],
   "source": [
    "# #resample before we smooth\n",
    "# ds = ds.resample(time=\"2W\").interpolate(\"linear\")\n",
    "\n",
    "# # # Savitsky-Golay smoothing\n",
    "# ds_smooth = xr.apply_ufunc(\n",
    "#         scipy.signal.savgol_filter,\n",
    "#         ds,\n",
    "#         input_core_dims=[['time']],\n",
    "#         output_core_dims=[['time']],\n",
    "#         kwargs=dict(\n",
    "#             window_length=11,\n",
    "#             polyorder=3,\n",
    "#             deriv=0,\n",
    "#             mode='interp'),\n",
    "#         dask='parallelized'\n",
    "#     )\n",
    "\n",
    "# #daily\n",
    "# ds = ds.sel(time=slice('1982', '2021')).fillna(0)\n",
    "# ds = ds.resample(time='1D').interpolate(kind='quadratic')"
   ]
  },
  {
   "cell_type": "markdown",
   "id": "0e939d0a-5a37-409b-885d-239d35fee19c",
   "metadata": {},
   "source": [
    "## Annually integrate NDVI\n",
    "\n",
    "This is a reasonable approximation of GPP in Aus."
   ]
  },
  {
   "cell_type": "code",
   "execution_count": null,
   "id": "bbc80b70-d618-4e33-8bff-db528c044641",
   "metadata": {},
   "outputs": [],
   "source": [
    "ds = ds.groupby('time.year').sum()"
   ]
  },
  {
   "cell_type": "markdown",
   "id": "5909cc67-0c51-4d0b-a497-cca28523069d",
   "metadata": {},
   "source": [
    "## Summarise climate and CO2 data"
   ]
  },
  {
   "cell_type": "code",
   "execution_count": null,
   "id": "3fdeee92-fc3c-4aca-afca-143058aeceb7",
   "metadata": {},
   "outputs": [],
   "source": [
    "co2 = covariables['co2'].groupby('time.year').mean()\n",
    "rain = covariables['rain'].groupby('time.year').sum()\n",
    "covariables = covariables.drop_vars(['rain', 'co2']).groupby('time.year').mean()\n",
    "\n",
    "covariables = xr.merge([co2.to_dataset(), rain.to_dataset(), covariables]).sel(year=slice(t1, t2))"
   ]
  },
  {
   "cell_type": "markdown",
   "id": "92fe7b26-d927-4923-aa9b-c157a5d350fb",
   "metadata": {},
   "source": [
    "## Testing implementing GPP residual method\n",
    "\n",
    "Following [Zhan et al 2024](https://agupubs.onlinelibrary.wiley.com/doi/10.1029/2023JG007910)\n",
    "\n",
    "Steps:\n",
    "1. Detrend NDVI, add back median value.\n",
    "2. Detrend climate variables (T, VPD, rainf, SW), add back median value.\n",
    "3. Train model: NDVI-detrend = f(climate detrend)\n",
    "4. Predict NDVI with original climate data using model\n",
    "5. NDVI residual = Actual NDVI - predicted NDVI\n",
    "6. Beta = linear trend of NDVI residual vs CO2."
   ]
  },
  {
   "cell_type": "markdown",
   "id": "f52a917d-a516-4093-b1a3-1f3f03269993",
   "metadata": {},
   "source": [
    "### Steps 1 and 2"
   ]
  },
  {
   "cell_type": "code",
   "execution_count": null,
   "id": "6869b388-bbc5-4601-bf06-b434676328e1",
   "metadata": {},
   "outputs": [],
   "source": [
    "df = ds.drop_vars('spatial_ref').to_dataframe(name='NDVI')\n",
    "df_covars = covariables.drop_vars('spatial_ref').to_dataframe()\n",
    "df = pd.merge(df, df_covars,  on='year')\n",
    "# df = df.rolling(5).mean().dropna()"
   ]
  },
  {
   "cell_type": "code",
   "execution_count": null,
   "id": "a66094bc-373e-4421-9ab1-7e8c061cc645",
   "metadata": {},
   "outputs": [],
   "source": [
    "for v in ['NDVI', 'rain', 'srad', 'tavg', 'vpd', 'cwd']:\n",
    "    df[f'{v}_detrend'] = detrend(df[v])\n",
    "    df[f'{v}_detrend'] = df[f'{v}_detrend'] + df[v].median()\n",
    "\n",
    "df.head(3)"
   ]
  },
  {
   "cell_type": "markdown",
   "id": "d29d4c0d-65ca-4e1d-a294-b9f6a44ee0bd",
   "metadata": {},
   "source": [
    "### Step 3"
   ]
  },
  {
   "cell_type": "code",
   "execution_count": null,
   "id": "2054f96d-f926-40e7-881b-b19f394ad445",
   "metadata": {},
   "outputs": [],
   "source": [
    "#fit a model\n",
    "x = df[['rain_detrend', 'srad_detrend', 'tavg_detrend', 'vpd_detrend', 'cwd_detrend']] #detrended data\n",
    "xx = df[['rain', 'srad', 'tavg', 'vpd', 'cwd']]\n",
    "y = df['NDVI_detrend']\n",
    "\n",
    "#fit a RF model using detrended values\n",
    "rf = RandomForestRegressor(n_estimators=100).fit(x, y)"
   ]
  },
  {
   "cell_type": "markdown",
   "id": "f9039a99-b5d9-414d-bfaf-c43a1f3c445e",
   "metadata": {},
   "source": [
    "### Step 4"
   ]
  },
  {
   "cell_type": "code",
   "execution_count": null,
   "id": "5bd6cef6-c173-48b5-aa29-86d9b9f6fbf5",
   "metadata": {},
   "outputs": [],
   "source": [
    "## predict using original climate data (add suffix to trick scikit learn)\n",
    "df['NDVI_predict'] = rf.predict(xx.add_suffix('_detrend'))"
   ]
  },
  {
   "cell_type": "markdown",
   "id": "fd4f30e6-950d-47e8-a7c7-fac9ce25bfdd",
   "metadata": {},
   "source": [
    "### Step 5"
   ]
  },
  {
   "cell_type": "code",
   "execution_count": null,
   "id": "9cc3ecce-3949-4a49-85ff-cce1e9977eb6",
   "metadata": {},
   "outputs": [],
   "source": [
    "df['NDVI_residual'] = df['NDVI'] - df['NDVI_predict']\n",
    "df['NDVI_residual_percent'] = df['NDVI_residual']/df['NDVI'][0:5].mean()"
   ]
  },
  {
   "cell_type": "code",
   "execution_count": null,
   "id": "3163c7a8-2867-456b-b1d6-0c484c9a1409",
   "metadata": {},
   "outputs": [],
   "source": [
    "gpp_t0 = df['NDVI'][0:5].mean()\n",
    "gpp_t1 = df['NDVI'][-5:].mean()\n",
    "co2_t0 = 338\n",
    "co2_t1 = 414\n",
    "response_ratio = ((gpp_t1 - gpp_t0) / gpp_t0) / ((co2_t1 - co2_t0) / co2_t0)\n",
    "response_ratio"
   ]
  },
  {
   "cell_type": "markdown",
   "id": "694f95fe-dfe7-4303-bc3b-b17dfe6ccd2c",
   "metadata": {},
   "source": [
    "### Step 6"
   ]
  },
  {
   "cell_type": "code",
   "execution_count": null,
   "id": "4ab99c5f-60e2-4d9d-9b2a-c8cfeb7e7651",
   "metadata": {},
   "outputs": [],
   "source": [
    "#find robust regression slope\n",
    "beta  = theilslopes(y=df['NDVI_residual'], x=df['co2']).slope\n",
    "beta_relative = theilslopes(y=df['NDVI_residual_percent'], x=df['co2']).slope * 100 * 100\n",
    "\n",
    "pvalue = kendalltau(y=df['NDVI_residual'], x=df['co2']).pvalue\n",
    "\n",
    "# beta  = linregress(y=df['NDVI_residual'], x=df['co2']).slope\n",
    "# beta_relative = linregress(y=df['NDVI_residual_percent'], x=df['co2']).slope * 100 * 100\n",
    "\n",
    "fig,ax = plt.subplots(1,2, figsize=(11,4))\n",
    "df['NDVI'].plot(ax=ax[0], label='NDVI', linestyle='dashed', color='k')\n",
    "df['NDVI_predict'].plot(ax=ax[0], label='NDVI-climate-predicted')\n",
    "ax[0].set_ylabel('NDVI yr⁻¹')\n",
    "ax[0].set_title('IBRA region: '+k)\n",
    "ax[0].grid(alpha=0.5)\n",
    "ax[0].set_xlabel(None)\n",
    "ax[0].legend()\n",
    "\n",
    "sb.scatterplot(data=df, x='co2',y='NDVI_residual', s=40, lw=1,ax=ax[1])\n",
    "sb.regplot(data=df, x='co2',y='NDVI_residual', scatter=False, color='darkblue', ax=ax[1], ci=None, robust=False)\n",
    "ax[1].set_ylabel('NDVI residual yr⁻¹')\n",
    "ax[1].set_xlabel('CO2 (ppm)')\n",
    "ax[1].set_title('Zhan (2024) method')\n",
    "# ax[1].set_ylim(-2,2)\n",
    "ax[1].grid(alpha=0.5)\n",
    "ax[1].text(.05, .90, '\\u03B2={:.3f} NDVI yr⁻¹ ppm⁻¹'.format(beta),\n",
    "            transform=ax[1].transAxes, fontsize=12);\n",
    "ax[1].text(.05, .825, '\\u03B2={:.1f} % NDVI / 100 ppm'.format(beta_relative) ,\n",
    "            transform=ax[1].transAxes, fontsize=12);\n",
    "ax[1].text(.05, .75, 'p={:.4f}'.format(pvalue),\n",
    "            transform=ax[1].transAxes, fontsize=12);"
   ]
  },
  {
   "cell_type": "markdown",
   "id": "41df80b9-360f-4e35-9d21-029174da9562",
   "metadata": {},
   "source": [
    "## Test experiments holding CO2 constant\n",
    "\n",
    "Residual between prediction when all variables kept original, and where CO2 is kept constant.\n",
    "\n",
    "1. Model iNDVI using CO2, SRAD, VPD, rain, Tavg\n",
    "2. Model iNDVI with CO2 set at average of first 3 years.\n",
    "3. Find residual between iNDVI-predicted and iNDVI-CO2-constant\n",
    "4. Plot residual iNDVI against CO2 and determine beta"
   ]
  },
  {
   "cell_type": "markdown",
   "id": "e7265429-82a2-4965-b019-7bd4f26ef408",
   "metadata": {},
   "source": [
    "### Modelling"
   ]
  },
  {
   "cell_type": "code",
   "execution_count": null,
   "id": "2c03dc40-4ec6-488a-8c9a-9c463a9eadc9",
   "metadata": {},
   "outputs": [],
   "source": [
    "# fit a model on observed data\n",
    "x = df[['rain', 'srad', 'tavg', 'vpd', 'co2', 'cwd']] # original data\n",
    "y = df['NDVI']\n",
    "\n",
    "lr = PLSRegression(n_components=2).fit(x, y)\n",
    "prediction = lr.predict(x)\n",
    "\n",
    "# now fit a model with CO2 held constant\n",
    "constant_co2 = x['co2'].iloc[0:3].mean() #average of first 3 years\n",
    "xx = x.drop('co2', axis=1)\n",
    "xx['co2'] = constant_co2\n",
    "\n",
    "lrr = PLSRegression(n_components=2).fit(xx, y)\n",
    "pred_co2_constant = lrr.predict(xx)\n",
    "\n",
    "# determine residual between predicted with and without co2 held constant\n",
    "df['NDVI_residual_co2constant'] =  df['NDVI'] - pred_co2_constant\n",
    "df['NDVI_residual_co2constant_percent'] = df['NDVI_residual_co2constant']/df['NDVI'] # np.mean(prediction[0:5])"
   ]
  },
  {
   "cell_type": "markdown",
   "id": "fb4ffb1b-fbb9-4f93-aa2e-f4ae1efa2837",
   "metadata": {},
   "source": [
    "### Plot"
   ]
  },
  {
   "cell_type": "code",
   "execution_count": null,
   "id": "89f2685f-02ff-4c9b-8e50-832d085cd091",
   "metadata": {},
   "outputs": [],
   "source": [
    "#find robust regression slope\n",
    "regress  = theilslopes(y=df['NDVI_residual_co2constant'], x=df['co2'])\n",
    "beta = regress.slope \n",
    "beta_relative = theilslopes(y=df['NDVI_residual_co2constant_percent'], x=df['co2']).slope * 100 * 100\n",
    "pvalue = kendalltau(y=df['NDVI_residual_co2constant'], x=df['co2']).pvalue\n",
    "\n",
    "fig,ax = plt.subplots(1,2, figsize=(11,4))\n",
    "ax[0].plot(df.index, prediction, label='NDVI-predicted', linestyle='dashed', color='k')\n",
    "ax[0].plot(df.index, pred_co2_constant, label='NDVI-CO2-constant')\n",
    "ax[0].plot(df.index, df['NDVI'].values, label='NDVI-Observed')\n",
    "\n",
    "ax[0].set_ylabel('NDVI yr⁻¹')\n",
    "ax[0].set_title('IBRA region: '+k)\n",
    "ax[0].grid(alpha=0.5)\n",
    "ax[0].set_xlabel(None)\n",
    "ax[0].legend()\n",
    "\n",
    "sb.scatterplot(data=df, x='co2',y='NDVI_residual_co2constant', s=40, lw=1,ax=ax[1])\n",
    "sb.regplot(data=df, x='co2',y='NDVI_residual_co2constant', scatter=False, color='darkblue', ax=ax[1], ci=None, robust=True)\n",
    "ax[1].set_ylabel('NDVI residual')\n",
    "ax[1].set_xlabel('CO2 (ppm)')\n",
    "# ax[1].set_ylim(-300,300)\n",
    "ax[1].set_title('CO2 held constant method')\n",
    "ax[1].grid(alpha=0.5)\n",
    "ax[1].text(.05, .90, '\\u03B2={:.3f} NDVI yr⁻¹ ppm⁻¹'.format(beta),\n",
    "            transform=ax[1].transAxes, fontsize=12);\n",
    "ax[1].text(.05, .825, '\\u03B2={:.1f} % NDVI / 100 ppm'.format(beta_relative) ,\n",
    "            transform=ax[1].transAxes, fontsize=12);\n",
    "ax[1].text(.05, .75, 'p={:.4f}'.format(pvalue),\n",
    "            transform=ax[1].transAxes, fontsize=12);"
   ]
  },
  {
   "cell_type": "code",
   "execution_count": null,
   "id": "5b0f56e9-c6f0-4c36-904e-40a9987d8c9a",
   "metadata": {},
   "outputs": [],
   "source": []
  },
  {
   "cell_type": "markdown",
   "id": "bf41fbca-cab3-48b4-ad37-be97cecf7707",
   "metadata": {},
   "source": [
    "## Test func "
   ]
  },
  {
   "cell_type": "code",
   "execution_count": null,
   "id": "507f0b12-4bab-4b03-a188-a695bee13952",
   "metadata": {},
   "outputs": [],
   "source": [
    "%load_ext autoreload\n",
    "%autoreload 2"
   ]
  },
  {
   "cell_type": "code",
   "execution_count": null,
   "id": "4fac3d92-5934-4df5-888e-28d2fcc62131",
   "metadata": {},
   "outputs": [],
   "source": [
    "import sys\n",
    "sys.path.append('/g/data/os22/chad_tmp/Aus_CO2_fertilisation/src')\n",
    "from analysis import _preprocess, regression_attribution, robust_trends, calculate_beta"
   ]
  },
  {
   "cell_type": "code",
   "execution_count": null,
   "id": "a3895acd-ec2b-4fd4-b285-1ba0b6426e81",
   "metadata": {},
   "outputs": [],
   "source": [
    "d, dd, ss, Y, idx_all_nan, nan_mask, shape = _preprocess(ds, covariables, ndvi_min)"
   ]
  },
  {
   "cell_type": "code",
   "execution_count": null,
   "id": "6168b9ac-74ec-4885-82f4-5ebd2e7e1008",
   "metadata": {},
   "outputs": [],
   "source": [
    "modelling_vars=['srad', 'rain', 'tavg', 'vpd', 'cwd']\n",
    "\n",
    "# i=0\n",
    "beta = []\n",
    "for i in range(shape[1])[400000:400010]: #[0:10]#loop through all spatial indexes. [400000:400010]\n",
    "    #select pixel\n",
    "    data = Y.isel(spatial=i)\n",
    "    \n",
    "    lat = data.latitude.item()\n",
    "    lon = data.longitude.item()\n",
    "    \n",
    "    b = calculate_beta(data,\n",
    "                       X=dd.sel(latitude=lat, longitude=lon),\n",
    "                       model_var='NDVI',\n",
    "                       modelling_vars=modelling_vars,\n",
    "                      )\n",
    "    beta.append(b.compute())\n",
    "\n",
    "beta = xr.combine_by_coords(beta).astype('float32')\n",
    "beta"
   ]
  },
  {
   "cell_type": "code",
   "execution_count": null,
   "id": "ee52d639-1f66-4feb-8298-c78a5fe7fe03",
   "metadata": {},
   "outputs": [],
   "source": [
    "modelling_vars=['srad', 'rain', 'tavg', 'vpd', 'cwd']\n",
    "for model_type in ['ML']:\n",
    "    regress_template = xr.open_dataset(f'/g/data/os22/chad_tmp/Aus_CO2_fertilisation/data/templates/template_{model_type}.nc').sel(feature=modelling_vars)\n",
    "    \n",
    "    p_attribution = []    \n",
    "    for i in range(shape[1])[400000:400001]: #loop through all spatial indexes.\n",
    "        #select pixel\n",
    "        data = Y.isel(spatial=i)\n",
    "        \n",
    "        lat = data.latitude.item()\n",
    "        lon = data.longitude.item()\n",
    "        \n",
    "        fi = regression_attribution(data,\n",
    "                           X=dd.sel(latitude=lat, longitude=lon),\n",
    "                           template=regress_template,\n",
    "                           model_type=model_type,\n",
    "                           rolling=1,\n",
    "                           detrend_data=True,\n",
    "                           modelling_vars=modelling_vars,\n",
    "                          )\n",
    "        p_attribution.append(fi.compute())\n",
    "    \n",
    "    p_attribution = xr.combine_by_coords(p_attribution).astype('float32')\n",
    "p_attribution"
   ]
  },
  {
   "cell_type": "code",
   "execution_count": null,
   "id": "895c32fe-3aeb-4b57-9caa-f86bc7920119",
   "metadata": {},
   "outputs": [],
   "source": []
  },
  {
   "cell_type": "code",
   "execution_count": null,
   "id": "2ad05522-1f0c-4c30-a288-7a7d80723106",
   "metadata": {},
   "outputs": [],
   "source": [
    "# i=400000\n",
    "# # i=0\n",
    "# results=[]\n",
    "# for i in range(shape[1])[0:10]:\n",
    "#     data = Y.isel(spatial=i)\n",
    "    \n",
    "#     if i in idx_all_nan:\n",
    "#         xx = xr.DataArray(name='slope', data=np.nan,\n",
    "#                           coords={'longitude':[1], 'latitude':[1]},\n",
    "#                           dims=['latitude', 'longitude']).to_dataset()\n",
    "#         xx['p_value'] = xx['slope']\n",
    "#         # xx = trend_template.copy() #use our template    \n",
    "#         xx['latitude'] = [data.latitude.values.item()] #update coords\n",
    "#         xx['longitude'] = [data.longitude.values.item()]\n",
    "    \n",
    "#     else:\n",
    "#         #run the trend function\n",
    "#         xx = robust_trends(data)\n",
    "    \n",
    "#     results.append(xx.compute())\n",
    "\n",
    "# trends = xr.combine_by_coords(results).astype('float32')"
   ]
  },
  {
   "cell_type": "code",
   "execution_count": null,
   "id": "9757d92f-e2c5-4fb3-95ce-f1d27d41da8d",
   "metadata": {},
   "outputs": [],
   "source": []
  }
 ],
 "metadata": {
  "kernelspec": {
   "display_name": "Python 3 (ipykernel)",
   "language": "python",
   "name": "python3"
  },
  "language_info": {
   "codemirror_mode": {
    "name": "ipython",
    "version": 3
   },
   "file_extension": ".py",
   "mimetype": "text/x-python",
   "name": "python",
   "nbconvert_exporter": "python",
   "pygments_lexer": "ipython3",
   "version": "3.10.0"
  }
 },
 "nbformat": 4,
 "nbformat_minor": 5
}
