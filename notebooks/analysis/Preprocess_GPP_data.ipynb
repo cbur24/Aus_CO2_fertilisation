{
 "cells": [
  {
   "cell_type": "markdown",
   "id": "7e19d34e-4d42-44fb-a377-453d015551b3",
   "metadata": {},
   "source": [
    "# Preprocess GPP datasets"
   ]
  },
  {
   "cell_type": "code",
   "execution_count": null,
   "id": "200826da-936a-420b-a796-adbdb6d57f07",
   "metadata": {},
   "outputs": [],
   "source": [
    "import os\n",
    "import xarray as xr\n",
    "import numpy as np\n",
    "import pandas as pd\n",
    "from odc.geo.xr import assign_crs\n",
    "\n",
    "import sys\n",
    "sys.path.append('/g/data/os22/chad_tmp/AusEFlux/src/')\n",
    "from _utils import round_coords"
   ]
  },
  {
   "cell_type": "markdown",
   "id": "687966cb-b3d3-4835-a069-2fb90d119034",
   "metadata": {},
   "source": [
    "## DIFFUSE"
   ]
  },
  {
   "cell_type": "code",
   "execution_count": null,
   "id": "ba6a8947-324c-4f52-9dd8-43bfbf8dc904",
   "metadata": {},
   "outputs": [],
   "source": [
    "ds_path = f'/g/data/os22/chad_tmp/Aus_CO2_fertilisation/data/DIFFUSE_GPP_1km_2003_2021.nc'\n",
    "ds = assign_crs(xr.open_dataset(ds_path), crs='EPSG:4326')['DIFFUSE_GPP']\n",
    "ds = ds.rename('GPP')\n",
    "mean = ds.max('time')\n",
    "mask = mean.where(mean>0)\n",
    "mask = (~np.isnan(mask))\n",
    "ds = ds.where(mask)\n",
    "ds = ds * ds.time.dt.daysinmonth\n",
    "ds.attrs['nodata'] = np.nan"
   ]
  },
  {
   "cell_type": "code",
   "execution_count": null,
   "id": "9bcceee8-9571-4cf3-831e-71ad868ed63d",
   "metadata": {},
   "outputs": [],
   "source": [
    "gbox = xr.open_dataset('/g/data/os22/chad_tmp/AusENDVI/data/5km/rain_5km_monthly_1981_2022.nc')['rain'].odc.geobox\n",
    "ds = assign_crs(ds, crs='epsg:4326')\n",
    "ds = ds.odc.reproject(gbox, resampling='average')\n",
    "ds = round_coords(ds)\n",
    "ds = assign_crs(ds, crs='epsg:4326')\n",
    "ds.name ='GPP'"
   ]
  },
  {
   "cell_type": "code",
   "execution_count": null,
   "id": "176a4d76-8946-45ce-8996-723ce9e3066d",
   "metadata": {},
   "outputs": [],
   "source": [
    "# ds.mean('time').plot.imshow(robust=True)"
   ]
  },
  {
   "cell_type": "code",
   "execution_count": null,
   "id": "cf8a230e-49f9-4311-8ca8-7f9683bec876",
   "metadata": {},
   "outputs": [],
   "source": [
    "ds.to_netcdf('/g/data/os22/chad_tmp/Aus_CO2_fertilisation/data/DIFFUSE_GPP_5km_2003_2021.nc')"
   ]
  },
  {
   "cell_type": "markdown",
   "id": "405ca15f-95c8-4593-882d-aa31dd9d14ca",
   "metadata": {},
   "source": [
    "## MODIS"
   ]
  },
  {
   "cell_type": "code",
   "execution_count": null,
   "id": "5c2ed3aa-0b46-4526-8357-b5e31677663e",
   "metadata": {},
   "outputs": [],
   "source": [
    "ds_path ='/g/data/xc0/project/AusEFlux/data/comparison_datasets/MODIS_GPP_1km_monthly_2002_2021.nc'\n",
    "ds = assign_crs(xr.open_dataset(ds_path), crs='EPSG:4326')['GPP']\n",
    "ds = ds*1000\n",
    "mean = ds.max('time')\n",
    "mask = mean.where(mean>0)\n",
    "mask = (~np.isnan(mask))\n",
    "ds = ds.where(mask)\n",
    "ds.attrs['nodata'] = np.nan"
   ]
  },
  {
   "cell_type": "code",
   "execution_count": null,
   "id": "74032f92-a042-4600-bea7-9d24fec05b45",
   "metadata": {},
   "outputs": [],
   "source": [
    "gbox = xr.open_dataset('/g/data/os22/chad_tmp/AusENDVI/data/5km/rain_5km_monthly_1981_2022.nc')['rain'].odc.geobox\n",
    "ds = assign_crs(ds, crs='epsg:4326')\n",
    "ds = ds.odc.reproject(gbox, resampling='average')\n",
    "ds = round_coords(ds)\n",
    "ds = assign_crs(ds, crs='epsg:4326')\n",
    "ds.name ='GPP'"
   ]
  },
  {
   "cell_type": "code",
   "execution_count": null,
   "id": "b9226ecc-8d2f-4c28-91f9-f8a153e4988c",
   "metadata": {},
   "outputs": [],
   "source": [
    "ds.to_netcdf('/g/data/os22/chad_tmp/Aus_CO2_fertilisation/data/MODIS_GPP_5km_2002_2021.nc')"
   ]
  },
  {
   "cell_type": "markdown",
   "id": "eff0a1b0-f9ab-4d67-997c-22d85c7bfe01",
   "metadata": {},
   "source": [
    "## AusEFlux version 2"
   ]
  },
  {
   "cell_type": "code",
   "execution_count": null,
   "id": "bff6a31c-3e3a-4d47-9337-e413f86f76f5",
   "metadata": {
    "scrolled": true
   },
   "outputs": [],
   "source": [
    "import sys\n",
    "sys.path.append('/g/data/os22/chad_tmp/AusEFlux/src/')\n",
    "from _utils import start_local_dask\n",
    "\n",
    "start_local_dask(\n",
    "        n_workers=13,\n",
    "        threads_per_worker=1,\n",
    "        memory_limit='60GiB'\n",
    "                    )"
   ]
  },
  {
   "cell_type": "code",
   "execution_count": null,
   "id": "9ad25210-5f81-4dd5-a61e-32ecb81c923d",
   "metadata": {},
   "outputs": [],
   "source": [
    "ds_path = '/g/data/ub8/au/AusEFlux/v2/monthly/GPP/'\n",
    "\n",
    "files = [f'{ds_path}/{i}' for i in os.listdir(ds_path) if i.endswith(\".nc\")]\n",
    "files.sort()\n",
    "ds = xr.open_mfdataset(files).sel(time=slice('2003','2023'))['GPP_median']\n",
    "ds = assign_crs(ds, crs='EPSG:4326')\n",
    "ds.attrs['nodata'] = np.nan\n",
    "\n",
    "gbox = xr.open_dataset('/g/data/os22/chad_tmp/AusENDVI/data/5km/rain_5km_monthly_1981_2022.nc')['rain'].odc.geobox\n",
    "ds = assign_crs(ds, crs='epsg:4326')\n",
    "ds = ds.odc.reproject(gbox, resampling='average')\n",
    "ds = round_coords(ds)\n",
    "ds = ds.rename('GPP')\n",
    "ds"
   ]
  },
  {
   "cell_type": "code",
   "execution_count": null,
   "id": "d568e21d-0374-4868-8c0b-f283c80b33e2",
   "metadata": {},
   "outputs": [],
   "source": [
    "%%time\n",
    "ds = ds.compute()"
   ]
  },
  {
   "cell_type": "code",
   "execution_count": null,
   "id": "195265da-ee76-44f4-832d-f957b332e4d8",
   "metadata": {},
   "outputs": [],
   "source": [
    "# ds.mean('time').plot.imshow(robust=True)"
   ]
  },
  {
   "cell_type": "code",
   "execution_count": null,
   "id": "3eb6f520-5476-42d9-9bab-bccf7cb68941",
   "metadata": {},
   "outputs": [],
   "source": [
    "ds.to_netcdf('/g/data/os22/chad_tmp/Aus_CO2_fertilisation/data/AusEFlux_GPP_5km_2003_2023.nc')"
   ]
  },
  {
   "cell_type": "markdown",
   "id": "e372eae7-e497-4d43-b445-30faa775ef8c",
   "metadata": {},
   "source": [
    "## CEDAR-GPP"
   ]
  },
  {
   "cell_type": "code",
   "execution_count": null,
   "id": "7353bb69-646c-4ba3-8e4d-10b8f8d2dc1e",
   "metadata": {},
   "outputs": [],
   "source": [
    "ds_path = '/g/data/os22/chad_tmp/Aus_CO2_fertilisation/data/LT_CFE-Hybrid_NT'\n",
    "\n",
    "files = [f'{ds_path}/{i}' for i in os.listdir(ds_path) if i.endswith(\".nc\")]\n",
    "files.sort()\n",
    "ds = xr.open_mfdataset(files).sel(time=slice('1982','2023'))['GPP_mean']\n",
    "ds = ds.sel(y=slice(-10,-45), x=slice(111,155))\n",
    "ds = ds.where(ds>-9999)\n",
    "ds = ds * 0.01 #scale factor\n",
    "ds = ds * ds.time.dt.daysinmonth # convert to monthly flux from daily flux \n",
    "ds = assign_crs(ds, crs='EPSG:4326')\n",
    "ds.attrs['nodata'] = np.nan\n",
    "\n",
    "gbox = xr.open_dataset('/g/data/os22/chad_tmp/AusENDVI/data/5km/rain_5km_monthly_1981_2022.nc')['rain'].odc.geobox\n",
    "ds = ds.odc.reproject(gbox, resampling='average').compute()\n",
    "ds = round_coords(ds)\n",
    "ds = assign_crs(ds, crs='epsg:4326')\n",
    "ds.name = 'GPP'\n",
    "ds['time'] = ds['time'] + pd.Timedelta(14, 'd') #Make time the middle of the month"
   ]
  },
  {
   "cell_type": "code",
   "execution_count": null,
   "id": "bbd62f85-5a8a-4541-a93d-6ae83eb75d35",
   "metadata": {},
   "outputs": [],
   "source": [
    "# ds.resample(time='YS').mean().mean(['latitude', 'longitude']).plot();"
   ]
  },
  {
   "cell_type": "code",
   "execution_count": null,
   "id": "bda181f8-b43e-4f5b-95a3-d9794787e16b",
   "metadata": {},
   "outputs": [],
   "source": [
    "ds.to_netcdf('/g/data/os22/chad_tmp/Aus_CO2_fertilisation/data/CEDAR_GPP_CFE_5km_1982_2020.nc')"
   ]
  },
  {
   "cell_type": "code",
   "execution_count": null,
   "id": "a858e879-d335-4b68-9557-5f30c30c3773",
   "metadata": {},
   "outputs": [],
   "source": []
  }
 ],
 "metadata": {
  "kernelspec": {
   "display_name": "Python 3 (ipykernel)",
   "language": "python",
   "name": "python3"
  },
  "language_info": {
   "codemirror_mode": {
    "name": "ipython",
    "version": 3
   },
   "file_extension": ".py",
   "mimetype": "text/x-python",
   "name": "python",
   "nbconvert_exporter": "python",
   "pygments_lexer": "ipython3",
   "version": "3.10.0"
  }
 },
 "nbformat": 4,
 "nbformat_minor": 5
}
